{
 "cells": [
  {
   "cell_type": "code",
   "execution_count": 1,
   "id": "92dd6337",
   "metadata": {},
   "outputs": [],
   "source": [
    "import pandas as pd"
   ]
  },
  {
   "cell_type": "code",
   "execution_count": 2,
   "id": "d6f3172e",
   "metadata": {},
   "outputs": [],
   "source": [
    "train_set = pd.read_json('./train.jsonl', lines=True)"
   ]
  },
  {
   "cell_type": "code",
   "execution_count": 3,
   "id": "d4cb87d4",
   "metadata": {},
   "outputs": [
    {
     "data": {
      "text/html": [
       "<div>\n",
       "<style scoped>\n",
       "    .dataframe tbody tr th:only-of-type {\n",
       "        vertical-align: middle;\n",
       "    }\n",
       "\n",
       "    .dataframe tbody tr th {\n",
       "        vertical-align: top;\n",
       "    }\n",
       "\n",
       "    .dataframe thead th {\n",
       "        text-align: right;\n",
       "    }\n",
       "</style>\n",
       "<table border=\"1\" class=\"dataframe\">\n",
       "  <thead>\n",
       "    <tr style=\"text-align: right;\">\n",
       "      <th></th>\n",
       "      <th>uid</th>\n",
       "      <th>context</th>\n",
       "      <th>hypothesis</th>\n",
       "      <th>label</th>\n",
       "      <th>model_label</th>\n",
       "      <th>emturk</th>\n",
       "      <th>genre</th>\n",
       "      <th>reason</th>\n",
       "      <th>tag</th>\n",
       "    </tr>\n",
       "  </thead>\n",
       "  <tbody>\n",
       "    <tr>\n",
       "      <th>0</th>\n",
       "      <td>2093cfb3-a15f-4282-81e3-0cb793ffd0d7</td>\n",
       "      <td>TOKYO, Dec 18 (Reuters) - Japan’s Shionogi &amp; C...</td>\n",
       "      <td>The article was written on December 18th.</td>\n",
       "      <td>e</td>\n",
       "      <td>n</td>\n",
       "      <td>False</td>\n",
       "      <td>news</td>\n",
       "      <td>TOKYO, Dec 18 (Reuters) is when the article wa...</td>\n",
       "      <td>r3_train</td>\n",
       "    </tr>\n",
       "    <tr>\n",
       "      <th>1</th>\n",
       "      <td>d7331d13-1b3b-4423-a3b2-8ac71951b64f</td>\n",
       "      <td>Tallahassee Mayor and Democratic gubernatorial...</td>\n",
       "      <td>Gillum was on TV urging residents to stay out ...</td>\n",
       "      <td>e</td>\n",
       "      <td>c</td>\n",
       "      <td>False</td>\n",
       "      <td>news</td>\n",
       "      <td>This is corrected because he blanketed the nat...</td>\n",
       "      <td>r3_train</td>\n",
       "    </tr>\n",
       "    <tr>\n",
       "      <th>2</th>\n",
       "      <td>cc9edb93-10f2-4987-8ae4-165a4fa9806e</td>\n",
       "      <td>MELBOURNE will look to avoid stumbling against...</td>\n",
       "      <td>Carlton beat Melbourne in 2016 and will attemp...</td>\n",
       "      <td>e</td>\n",
       "      <td>n</td>\n",
       "      <td>False</td>\n",
       "      <td>news</td>\n",
       "      <td>In a game, one team always tries to beat the o...</td>\n",
       "      <td>r3_train</td>\n",
       "    </tr>\n",
       "    <tr>\n",
       "      <th>3</th>\n",
       "      <td>6be3c17c-04e4-44a4-a669-92812f003c7e</td>\n",
       "      <td>by Ted Raymond, Newstalk 580 CFRA A stretch of...</td>\n",
       "      <td>The road was closed for more than two hours af...</td>\n",
       "      <td>e</td>\n",
       "      <td>n</td>\n",
       "      <td>False</td>\n",
       "      <td>news</td>\n",
       "      <td>The road was closed from 12:00 to 6:30. I thin...</td>\n",
       "      <td>r3_train</td>\n",
       "    </tr>\n",
       "    <tr>\n",
       "      <th>4</th>\n",
       "      <td>4c126bd1-2fda-4266-81a2-80ae5e3df18d</td>\n",
       "      <td>Drivers are reporting heavy traffic on the nor...</td>\n",
       "      <td>Its advisible to slow down</td>\n",
       "      <td>e</td>\n",
       "      <td>n</td>\n",
       "      <td>False</td>\n",
       "      <td>news</td>\n",
       "      <td>speed has been reduced</td>\n",
       "      <td>r3_train</td>\n",
       "    </tr>\n",
       "    <tr>\n",
       "      <th>...</th>\n",
       "      <td>...</td>\n",
       "      <td>...</td>\n",
       "      <td>...</td>\n",
       "      <td>...</td>\n",
       "      <td>...</td>\n",
       "      <td>...</td>\n",
       "      <td>...</td>\n",
       "      <td>...</td>\n",
       "      <td>...</td>\n",
       "    </tr>\n",
       "    <tr>\n",
       "      <th>100454</th>\n",
       "      <td>515d335b-7ef8-419f-a5de-9243787eceaf</td>\n",
       "      <td>A U.S. soldier accused of participating in the...</td>\n",
       "      <td>The Soldier committed these crimes in the unit...</td>\n",
       "      <td>n</td>\n",
       "      <td>n</td>\n",
       "      <td>False</td>\n",
       "      <td>rte</td>\n",
       "      <td></td>\n",
       "      <td>r3_train</td>\n",
       "    </tr>\n",
       "    <tr>\n",
       "      <th>100455</th>\n",
       "      <td>ad9a0464-e03f-4cb6-af43-de01e22c6b1e</td>\n",
       "      <td>Figures released today show that the number of...</td>\n",
       "      <td>there is a continuous decline in the number of...</td>\n",
       "      <td>n</td>\n",
       "      <td>n</td>\n",
       "      <td>False</td>\n",
       "      <td>rte</td>\n",
       "      <td></td>\n",
       "      <td>r3_train</td>\n",
       "    </tr>\n",
       "    <tr>\n",
       "      <th>100456</th>\n",
       "      <td>35a7e59f-3f03-4662-8968-13557ac2454a</td>\n",
       "      <td>For Bechtolsheim, who designed the prototype f...</td>\n",
       "      <td>Bechtolsheim is experienced with computers.</td>\n",
       "      <td>e</td>\n",
       "      <td>e</td>\n",
       "      <td>False</td>\n",
       "      <td>rte</td>\n",
       "      <td></td>\n",
       "      <td>r3_train</td>\n",
       "    </tr>\n",
       "    <tr>\n",
       "      <th>100457</th>\n",
       "      <td>daf78f60-5fcf-43f6-b58b-273dec26cbc2</td>\n",
       "      <td>Figures released today show that the number of...</td>\n",
       "      <td>figures shows New Zealanders are the lowest or...</td>\n",
       "      <td>n</td>\n",
       "      <td>n</td>\n",
       "      <td>False</td>\n",
       "      <td>rte</td>\n",
       "      <td></td>\n",
       "      <td>r3_train</td>\n",
       "    </tr>\n",
       "    <tr>\n",
       "      <th>100458</th>\n",
       "      <td>c5e18ac2-64da-46a6-87ba-ae51089d1f72</td>\n",
       "      <td>Tenzin Gyatso, the 14th Dalai Lama, has vowed ...</td>\n",
       "      <td>Some tibetans welcome Chinese rule.</td>\n",
       "      <td>n</td>\n",
       "      <td>n</td>\n",
       "      <td>False</td>\n",
       "      <td>rte</td>\n",
       "      <td></td>\n",
       "      <td>r3_train</td>\n",
       "    </tr>\n",
       "  </tbody>\n",
       "</table>\n",
       "<p>100459 rows × 9 columns</p>\n",
       "</div>"
      ],
      "text/plain": [
       "                                         uid  \\\n",
       "0       2093cfb3-a15f-4282-81e3-0cb793ffd0d7   \n",
       "1       d7331d13-1b3b-4423-a3b2-8ac71951b64f   \n",
       "2       cc9edb93-10f2-4987-8ae4-165a4fa9806e   \n",
       "3       6be3c17c-04e4-44a4-a669-92812f003c7e   \n",
       "4       4c126bd1-2fda-4266-81a2-80ae5e3df18d   \n",
       "...                                      ...   \n",
       "100454  515d335b-7ef8-419f-a5de-9243787eceaf   \n",
       "100455  ad9a0464-e03f-4cb6-af43-de01e22c6b1e   \n",
       "100456  35a7e59f-3f03-4662-8968-13557ac2454a   \n",
       "100457  daf78f60-5fcf-43f6-b58b-273dec26cbc2   \n",
       "100458  c5e18ac2-64da-46a6-87ba-ae51089d1f72   \n",
       "\n",
       "                                                  context  \\\n",
       "0       TOKYO, Dec 18 (Reuters) - Japan’s Shionogi & C...   \n",
       "1       Tallahassee Mayor and Democratic gubernatorial...   \n",
       "2       MELBOURNE will look to avoid stumbling against...   \n",
       "3       by Ted Raymond, Newstalk 580 CFRA A stretch of...   \n",
       "4       Drivers are reporting heavy traffic on the nor...   \n",
       "...                                                   ...   \n",
       "100454  A U.S. soldier accused of participating in the...   \n",
       "100455  Figures released today show that the number of...   \n",
       "100456  For Bechtolsheim, who designed the prototype f...   \n",
       "100457  Figures released today show that the number of...   \n",
       "100458  Tenzin Gyatso, the 14th Dalai Lama, has vowed ...   \n",
       "\n",
       "                                               hypothesis label model_label  \\\n",
       "0               The article was written on December 18th.     e           n   \n",
       "1       Gillum was on TV urging residents to stay out ...     e           c   \n",
       "2       Carlton beat Melbourne in 2016 and will attemp...     e           n   \n",
       "3       The road was closed for more than two hours af...     e           n   \n",
       "4                              Its advisible to slow down     e           n   \n",
       "...                                                   ...   ...         ...   \n",
       "100454  The Soldier committed these crimes in the unit...     n           n   \n",
       "100455  there is a continuous decline in the number of...     n           n   \n",
       "100456        Bechtolsheim is experienced with computers.     e           e   \n",
       "100457  figures shows New Zealanders are the lowest or...     n           n   \n",
       "100458                Some tibetans welcome Chinese rule.     n           n   \n",
       "\n",
       "        emturk genre                                             reason  \\\n",
       "0        False  news  TOKYO, Dec 18 (Reuters) is when the article wa...   \n",
       "1        False  news  This is corrected because he blanketed the nat...   \n",
       "2        False  news  In a game, one team always tries to beat the o...   \n",
       "3        False  news  The road was closed from 12:00 to 6:30. I thin...   \n",
       "4        False  news                             speed has been reduced   \n",
       "...        ...   ...                                                ...   \n",
       "100454   False   rte                                                      \n",
       "100455   False   rte                                                      \n",
       "100456   False   rte                                                      \n",
       "100457   False   rte                                                      \n",
       "100458   False   rte                                                      \n",
       "\n",
       "             tag  \n",
       "0       r3_train  \n",
       "1       r3_train  \n",
       "2       r3_train  \n",
       "3       r3_train  \n",
       "4       r3_train  \n",
       "...          ...  \n",
       "100454  r3_train  \n",
       "100455  r3_train  \n",
       "100456  r3_train  \n",
       "100457  r3_train  \n",
       "100458  r3_train  \n",
       "\n",
       "[100459 rows x 9 columns]"
      ]
     },
     "execution_count": 3,
     "metadata": {},
     "output_type": "execute_result"
    }
   ],
   "source": [
    "train_set"
   ]
  },
  {
   "cell_type": "code",
   "execution_count": 4,
   "id": "6df84d23",
   "metadata": {},
   "outputs": [
    {
     "data": {
      "text/plain": [
       "n    40778\n",
       "e    32292\n",
       "c    27389\n",
       "Name: label, dtype: int64"
      ]
     },
     "execution_count": 4,
     "metadata": {},
     "output_type": "execute_result"
    }
   ],
   "source": [
    "train_set['label'].value_counts()"
   ]
  },
  {
   "cell_type": "code",
   "execution_count": 5,
   "id": "e41aeb3a",
   "metadata": {},
   "outputs": [
    {
     "data": {
      "text/plain": [
       "<AxesSubplot:ylabel='label'>"
      ]
     },
     "execution_count": 5,
     "metadata": {},
     "output_type": "execute_result"
    },
    {
     "data": {
      "image/png": "[encoded data removed]",
      "text/plain": [
       "<Figure size 432x288 with 1 Axes>"
      ]
     },
     "metadata": {},
     "output_type": "display_data"
    }
   ],
   "source": [
    "train_set['label'].value_counts().plot(kind='pie')"
   ]
  },
  {
   "cell_type": "code",
   "execution_count": 6,
   "id": "830a36fa",
   "metadata": {},
   "outputs": [],
   "source": [
    "n_example = train_set[train_set['label'] == 'n'].sample(1, random_state= 42)\n",
    "\n",
    "e_example = train_set[train_set['label'] == 'e'].sample(1, random_state= 42)\n",
    "\n",
    "c_example = train_set[train_set['label'] == 'c'].sample(1, random_state= 42)"
   ]
  },
  {
   "cell_type": "code",
   "execution_count": 7,
   "id": "aeec1c42",
   "metadata": {},
   "outputs": [
    {
     "name": "stdout",
     "output_type": "stream",
     "text": [
      "Context:\n",
      " Two Saltillo teens arrested in June for vandalizing a Weaver Cemetery and a church near Pickton have been indicted by a Hopkins County grand jury. Canyon Ray Davis and Johnny Lyle Bench were charged with Tampering with Evidence and Criminal Mischief resulting in damage or destruction to a place of worship. \n",
      "\n",
      "Hypothesis:\n",
      " The cemetery and church were right next to each other  \n",
      "\n",
      "TrueLabel:\n",
      " n\n"
     ]
    }
   ],
   "source": [
    "print('Context:\\n', n_example['context'].values[0], '\\n\\nHypothesis:\\n', n_example['hypothesis'].values[0],  '\\n\\nTrueLabel:\\n', n_example['label'].values[0])"
   ]
  },
  {
   "cell_type": "code",
   "execution_count": 8,
   "id": "22849145",
   "metadata": {},
   "outputs": [
    {
     "name": "stdout",
     "output_type": "stream",
     "text": [
      "Context:\n",
      " So I would like to ask him how he could expect me as a member on this side of the House who is most interested in getting to the root of government documents, in getting to examine the way government functions and indeed who has had legislation before this House that would enable members to better do their job in this regard, to take this motion seriously when his party has deliberately blocked the very kind of legislation that we need in this House to enable backbenchers and opposition members to assess how government operates? \n",
      "\n",
      "Hypothesis:\n",
      " The speaker is interested in understanding the finer nuances of Government documents \n",
      "\n",
      "TrueLabel:\n",
      " e\n"
     ]
    }
   ],
   "source": [
    "print('Context:\\n', e_example['context'].values[0], '\\n\\nHypothesis:\\n', e_example['hypothesis'].values[0],  '\\n\\nTrueLabel:\\n', e_example['label'].values[0])"
   ]
  },
  {
   "cell_type": "code",
   "execution_count": 9,
   "id": "d769ed5a",
   "metadata": {},
   "outputs": [
    {
     "name": "stdout",
     "output_type": "stream",
     "text": [
      "Context:\n",
      " Staying after school<br>Susie stayed after school with her English teacher. She wanted to express her ideas for her paper. She thought it would help her get a good grade. But when Susie handed in her paper she failed. Susie did not know what she did wrong. \n",
      "\n",
      "Hypothesis:\n",
      " school contains a qq \n",
      "\n",
      "TrueLabel:\n",
      " c\n"
     ]
    }
   ],
   "source": [
    "print('Context:\\n', c_example['context'].values[0], '\\n\\nHypothesis:\\n', c_example['hypothesis'].values[0],  '\\n\\nTrueLabel:\\n', c_example['label'].values[0])"
   ]
  }
 ],
 "metadata": {
  "kernelspec": {
   "display_name": "herman_7",
   "language": "python",
   "name": "herman_7"
  },
  "language_info": {
   "codemirror_mode": {
    "name": "ipython",
    "version": 3
   },
   "file_extension": ".py",
   "mimetype": "text/x-python",
   "name": "python",
   "nbconvert_exporter": "python",
   "pygments_lexer": "ipython3",
   "version": "3.7.13"
  }
 },
 "nbformat": 4,
 "nbformat_minor": 5
}
