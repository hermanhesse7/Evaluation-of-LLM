{
 "cells": [
  {
   "cell_type": "code",
   "execution_count": 1,
   "id": "92dd6337",
   "metadata": {},
   "outputs": [],
   "source": [
    "from evaluate import load\n",
    "\n",
    "import pandas as pd\n",
    "import numpy as np\n",
    "\n",
    "from tqdm.notebook import tqdm\n",
    "\n",
    "from random import sample\n",
    "\n",
    "import pickle"
   ]
  },
  {
   "cell_type": "code",
   "execution_count": 2,
   "id": "6cceb5c9",
   "metadata": {},
   "outputs": [],
   "source": [
    "bertscore = load(\"bertscore\")"
   ]
  },
  {
   "cell_type": "code",
   "execution_count": 175,
   "id": "d6f3172e",
   "metadata": {},
   "outputs": [],
   "source": [
    "train_set = pd.read_json('./train.jsonl', lines=True).sample(n=4000, random_state= 42)\n",
    "# test_set = pd.read_json('./test.jsonl', lines=True).sample(n=60, random_state= 42)"
   ]
  },
  {
   "cell_type": "code",
   "execution_count": 176,
   "id": "e41aeb3a",
   "metadata": {},
   "outputs": [
    {
     "data": {
      "text/plain": [
       "n    1555\n",
       "e    1306\n",
       "c    1139\n",
       "Name: label, dtype: int64"
      ]
     },
     "execution_count": 176,
     "metadata": {},
     "output_type": "execute_result"
    }
   ],
   "source": [
    "train_set['label'].value_counts()"
   ]
  },
  {
   "cell_type": "code",
   "execution_count": null,
   "id": "c412489c",
   "metadata": {},
   "outputs": [
    {
     "data": {
      "application/vnd.jupyter.widget-view+json": {
       "model_id": "96619895b9974f38b6efb76ff2f6c656",
       "version_major": 2,
       "version_minor": 0
      },
      "text/plain": [
       "  0%|          | 0/4000 [00:00<?, ?it/s]"
      ]
     },
     "metadata": {},
     "output_type": "display_data"
    }
   ],
   "source": [
    "S = []\n",
    "\n",
    "for i, train_row in tqdm(train_set.iterrows(), total = len(train_set)):\n",
    "    S.append(bertscore.compute(predictions=train_set['context'].values, references=[train_row['context']]*len(train_set), model_type='princeton-nlp/sup-simcse-bert-base-uncased')['f1'])"
   ]
  },
  {
   "cell_type": "code",
   "execution_count": 180,
   "id": "1beb503d",
   "metadata": {},
   "outputs": [
    {
     "name": "stdout",
     "output_type": "stream",
     "text": [
      "(4000, 4000)\n"
     ]
    }
   ],
   "source": [
    "S = np.asarray(S)\n",
    "print(S.shape)"
   ]
  },
  {
   "cell_type": "code",
   "execution_count": 182,
   "id": "8d92454f",
   "metadata": {},
   "outputs": [],
   "source": [
    "with open('./MMR_S.pkl', 'wb') as f:\n",
    "    pickle.dump(S, f)"
   ]
  },
  {
   "cell_type": "code",
   "execution_count": 183,
   "id": "491de1cb",
   "metadata": {},
   "outputs": [],
   "source": [
    "K = 12\n",
    "l = 0.5"
   ]
  },
  {
   "cell_type": "code",
   "execution_count": 184,
   "id": "c30724b0",
   "metadata": {},
   "outputs": [
    {
     "data": {
      "application/vnd.jupyter.widget-view+json": {
       "model_id": "cd933341f42a4dbf890a79d3d90326ae",
       "version_major": 2,
       "version_minor": 0
      },
      "text/plain": [
       "  0%|          | 0/60 [00:00<?, ?it/s]"
      ]
     },
     "metadata": {},
     "output_type": "display_data"
    },
    {
     "data": {
      "application/vnd.jupyter.widget-view+json": {
       "model_id": "",
       "version_major": 2,
       "version_minor": 0
      },
      "text/plain": [
       "  0%|          | 0/4000 [00:00<?, ?it/s]"
      ]
     },
     "metadata": {},
     "output_type": "display_data"
    },
    {
     "data": {
      "application/vnd.jupyter.widget-view+json": {
       "model_id": "",
       "version_major": 2,
       "version_minor": 0
      },
      "text/plain": [
       "  0%|          | 0/4000 [00:00<?, ?it/s]"
      ]
     },
     "metadata": {},
     "output_type": "display_data"
    },
    {
     "data": {
      "application/vnd.jupyter.widget-view+json": {
       "model_id": "",
       "version_major": 2,
       "version_minor": 0
      },
      "text/plain": [
       "  0%|          | 0/4000 [00:00<?, ?it/s]"
      ]
     },
     "metadata": {},
     "output_type": "display_data"
    },
    {
     "data": {
      "application/vnd.jupyter.widget-view+json": {
       "model_id": "",
       "version_major": 2,
       "version_minor": 0
      },
      "text/plain": [
       "  0%|          | 0/4000 [00:00<?, ?it/s]"
      ]
     },
     "metadata": {},
     "output_type": "display_data"
    },
    {
     "data": {
      "application/vnd.jupyter.widget-view+json": {
       "model_id": "",
       "version_major": 2,
       "version_minor": 0
      },
      "text/plain": [
       "  0%|          | 0/4000 [00:00<?, ?it/s]"
      ]
     },
     "metadata": {},
     "output_type": "display_data"
    },
    {
     "data": {
      "application/vnd.jupyter.widget-view+json": {
       "model_id": "",
       "version_major": 2,
       "version_minor": 0
      },
      "text/plain": [
       "  0%|          | 0/4000 [00:00<?, ?it/s]"
      ]
     },
     "metadata": {},
     "output_type": "display_data"
    },
    {
     "data": {
      "application/vnd.jupyter.widget-view+json": {
       "model_id": "",
       "version_major": 2,
       "version_minor": 0
      },
      "text/plain": [
       "  0%|          | 0/4000 [00:00<?, ?it/s]"
      ]
     },
     "metadata": {},
     "output_type": "display_data"
    },
    {
     "data": {
      "application/vnd.jupyter.widget-view+json": {
       "model_id": "",
       "version_major": 2,
       "version_minor": 0
      },
      "text/plain": [
       "  0%|          | 0/4000 [00:00<?, ?it/s]"
      ]
     },
     "metadata": {},
     "output_type": "display_data"
    },
    {
     "data": {
      "application/vnd.jupyter.widget-view+json": {
       "model_id": "",
       "version_major": 2,
       "version_minor": 0
      },
      "text/plain": [
       "  0%|          | 0/4000 [00:00<?, ?it/s]"
      ]
     },
     "metadata": {},
     "output_type": "display_data"
    },
    {
     "data": {
      "application/vnd.jupyter.widget-view+json": {
       "model_id": "",
       "version_major": 2,
       "version_minor": 0
      },
      "text/plain": [
       "  0%|          | 0/4000 [00:00<?, ?it/s]"
      ]
     },
     "metadata": {},
     "output_type": "display_data"
    },
    {
     "data": {
      "application/vnd.jupyter.widget-view+json": {
       "model_id": "",
       "version_major": 2,
       "version_minor": 0
      },
      "text/plain": [
       "  0%|          | 0/4000 [00:00<?, ?it/s]"
      ]
     },
     "metadata": {},
     "output_type": "display_data"
    },
    {
     "data": {
      "application/vnd.jupyter.widget-view+json": {
       "model_id": "",
       "version_major": 2,
       "version_minor": 0
      },
      "text/plain": [
       "  0%|          | 0/4000 [00:00<?, ?it/s]"
      ]
     },
     "metadata": {},
     "output_type": "display_data"
    },
    {
     "data": {
      "application/vnd.jupyter.widget-view+json": {
       "model_id": "",
       "version_major": 2,
       "version_minor": 0
      },
      "text/plain": [
       "  0%|          | 0/4000 [00:00<?, ?it/s]"
      ]
     },
     "metadata": {},
     "output_type": "display_data"
    },
    {
     "data": {
      "application/vnd.jupyter.widget-view+json": {
       "model_id": "",
       "version_major": 2,
       "version_minor": 0
      },
      "text/plain": [
       "  0%|          | 0/4000 [00:00<?, ?it/s]"
      ]
     },
     "metadata": {},
     "output_type": "display_data"
    },
    {
     "data": {
      "application/vnd.jupyter.widget-view+json": {
       "model_id": "",
       "version_major": 2,
       "version_minor": 0
      },
      "text/plain": [
       "  0%|          | 0/4000 [00:00<?, ?it/s]"
      ]
     },
     "metadata": {},
     "output_type": "display_data"
    },
    {
     "data": {
      "application/vnd.jupyter.widget-view+json": {
       "model_id": "",
       "version_major": 2,
       "version_minor": 0
      },
      "text/plain": [
       "  0%|          | 0/4000 [00:00<?, ?it/s]"
      ]
     },
     "metadata": {},
     "output_type": "display_data"
    },
    {
     "data": {
      "application/vnd.jupyter.widget-view+json": {
       "model_id": "",
       "version_major": 2,
       "version_minor": 0
      },
      "text/plain": [
       "  0%|          | 0/4000 [00:00<?, ?it/s]"
      ]
     },
     "metadata": {},
     "output_type": "display_data"
    },
    {
     "data": {
      "application/vnd.jupyter.widget-view+json": {
       "model_id": "",
       "version_major": 2,
       "version_minor": 0
      },
      "text/plain": [
       "  0%|          | 0/4000 [00:00<?, ?it/s]"
      ]
     },
     "metadata": {},
     "output_type": "display_data"
    },
    {
     "data": {
      "application/vnd.jupyter.widget-view+json": {
       "model_id": "",
       "version_major": 2,
       "version_minor": 0
      },
      "text/plain": [
       "  0%|          | 0/4000 [00:00<?, ?it/s]"
      ]
     },
     "metadata": {},
     "output_type": "display_data"
    },
    {
     "data": {
      "application/vnd.jupyter.widget-view+json": {
       "model_id": "",
       "version_major": 2,
       "version_minor": 0
      },
      "text/plain": [
       "  0%|          | 0/4000 [00:00<?, ?it/s]"
      ]
     },
     "metadata": {},
     "output_type": "display_data"
    },
    {
     "data": {
      "application/vnd.jupyter.widget-view+json": {
       "model_id": "",
       "version_major": 2,
       "version_minor": 0
      },
      "text/plain": [
       "  0%|          | 0/4000 [00:00<?, ?it/s]"
      ]
     },
     "metadata": {},
     "output_type": "display_data"
    },
    {
     "data": {
      "application/vnd.jupyter.widget-view+json": {
       "model_id": "",
       "version_major": 2,
       "version_minor": 0
      },
      "text/plain": [
       "  0%|          | 0/4000 [00:00<?, ?it/s]"
      ]
     },
     "metadata": {},
     "output_type": "display_data"
    },
    {
     "data": {
      "application/vnd.jupyter.widget-view+json": {
       "model_id": "",
       "version_major": 2,
       "version_minor": 0
      },
      "text/plain": [
       "  0%|          | 0/4000 [00:00<?, ?it/s]"
      ]
     },
     "metadata": {},
     "output_type": "display_data"
    },
    {
     "data": {
      "application/vnd.jupyter.widget-view+json": {
       "model_id": "",
       "version_major": 2,
       "version_minor": 0
      },
      "text/plain": [
       "  0%|          | 0/4000 [00:00<?, ?it/s]"
      ]
     },
     "metadata": {},
     "output_type": "display_data"
    },
    {
     "data": {
      "application/vnd.jupyter.widget-view+json": {
       "model_id": "",
       "version_major": 2,
       "version_minor": 0
      },
      "text/plain": [
       "  0%|          | 0/4000 [00:00<?, ?it/s]"
      ]
     },
     "metadata": {},
     "output_type": "display_data"
    },
    {
     "data": {
      "application/vnd.jupyter.widget-view+json": {
       "model_id": "",
       "version_major": 2,
       "version_minor": 0
      },
      "text/plain": [
       "  0%|          | 0/4000 [00:00<?, ?it/s]"
      ]
     },
     "metadata": {},
     "output_type": "display_data"
    },
    {
     "data": {
      "application/vnd.jupyter.widget-view+json": {
       "model_id": "",
       "version_major": 2,
       "version_minor": 0
      },
      "text/plain": [
       "  0%|          | 0/4000 [00:00<?, ?it/s]"
      ]
     },
     "metadata": {},
     "output_type": "display_data"
    },
    {
     "data": {
      "application/vnd.jupyter.widget-view+json": {
       "model_id": "",
       "version_major": 2,
       "version_minor": 0
      },
      "text/plain": [
       "  0%|          | 0/4000 [00:00<?, ?it/s]"
      ]
     },
     "metadata": {},
     "output_type": "display_data"
    },
    {
     "data": {
      "application/vnd.jupyter.widget-view+json": {
       "model_id": "",
       "version_major": 2,
       "version_minor": 0
      },
      "text/plain": [
       "  0%|          | 0/4000 [00:00<?, ?it/s]"
      ]
     },
     "metadata": {},
     "output_type": "display_data"
    },
    {
     "data": {
      "application/vnd.jupyter.widget-view+json": {
       "model_id": "",
       "version_major": 2,
       "version_minor": 0
      },
      "text/plain": [
       "  0%|          | 0/4000 [00:00<?, ?it/s]"
      ]
     },
     "metadata": {},
     "output_type": "display_data"
    },
    {
     "data": {
      "application/vnd.jupyter.widget-view+json": {
       "model_id": "",
       "version_major": 2,
       "version_minor": 0
      },
      "text/plain": [
       "  0%|          | 0/4000 [00:00<?, ?it/s]"
      ]
     },
     "metadata": {},
     "output_type": "display_data"
    },
    {
     "data": {
      "application/vnd.jupyter.widget-view+json": {
       "model_id": "",
       "version_major": 2,
       "version_minor": 0
      },
      "text/plain": [
       "  0%|          | 0/4000 [00:00<?, ?it/s]"
      ]
     },
     "metadata": {},
     "output_type": "display_data"
    },
    {
     "data": {
      "application/vnd.jupyter.widget-view+json": {
       "model_id": "",
       "version_major": 2,
       "version_minor": 0
      },
      "text/plain": [
       "  0%|          | 0/4000 [00:00<?, ?it/s]"
      ]
     },
     "metadata": {},
     "output_type": "display_data"
    },
    {
     "data": {
      "application/vnd.jupyter.widget-view+json": {
       "model_id": "",
       "version_major": 2,
       "version_minor": 0
      },
      "text/plain": [
       "  0%|          | 0/4000 [00:00<?, ?it/s]"
      ]
     },
     "metadata": {},
     "output_type": "display_data"
    },
    {
     "data": {
      "application/vnd.jupyter.widget-view+json": {
       "model_id": "",
       "version_major": 2,
       "version_minor": 0
      },
      "text/plain": [
       "  0%|          | 0/4000 [00:00<?, ?it/s]"
      ]
     },
     "metadata": {},
     "output_type": "display_data"
    },
    {
     "data": {
      "application/vnd.jupyter.widget-view+json": {
       "model_id": "",
       "version_major": 2,
       "version_minor": 0
      },
      "text/plain": [
       "  0%|          | 0/4000 [00:00<?, ?it/s]"
      ]
     },
     "metadata": {},
     "output_type": "display_data"
    },
    {
     "data": {
      "application/vnd.jupyter.widget-view+json": {
       "model_id": "",
       "version_major": 2,
       "version_minor": 0
      },
      "text/plain": [
       "  0%|          | 0/4000 [00:00<?, ?it/s]"
      ]
     },
     "metadata": {},
     "output_type": "display_data"
    },
    {
     "data": {
      "application/vnd.jupyter.widget-view+json": {
       "model_id": "",
       "version_major": 2,
       "version_minor": 0
      },
      "text/plain": [
       "  0%|          | 0/4000 [00:00<?, ?it/s]"
      ]
     },
     "metadata": {},
     "output_type": "display_data"
    },
    {
     "data": {
      "application/vnd.jupyter.widget-view+json": {
       "model_id": "",
       "version_major": 2,
       "version_minor": 0
      },
      "text/plain": [
       "  0%|          | 0/4000 [00:00<?, ?it/s]"
      ]
     },
     "metadata": {},
     "output_type": "display_data"
    },
    {
     "data": {
      "application/vnd.jupyter.widget-view+json": {
       "model_id": "",
       "version_major": 2,
       "version_minor": 0
      },
      "text/plain": [
       "  0%|          | 0/4000 [00:00<?, ?it/s]"
      ]
     },
     "metadata": {},
     "output_type": "display_data"
    },
    {
     "data": {
      "application/vnd.jupyter.widget-view+json": {
       "model_id": "",
       "version_major": 2,
       "version_minor": 0
      },
      "text/plain": [
       "  0%|          | 0/4000 [00:00<?, ?it/s]"
      ]
     },
     "metadata": {},
     "output_type": "display_data"
    },
    {
     "data": {
      "application/vnd.jupyter.widget-view+json": {
       "model_id": "",
       "version_major": 2,
       "version_minor": 0
      },
      "text/plain": [
       "  0%|          | 0/4000 [00:00<?, ?it/s]"
      ]
     },
     "metadata": {},
     "output_type": "display_data"
    },
    {
     "data": {
      "application/vnd.jupyter.widget-view+json": {
       "model_id": "",
       "version_major": 2,
       "version_minor": 0
      },
      "text/plain": [
       "  0%|          | 0/4000 [00:00<?, ?it/s]"
      ]
     },
     "metadata": {},
     "output_type": "display_data"
    },
    {
     "data": {
      "application/vnd.jupyter.widget-view+json": {
       "model_id": "",
       "version_major": 2,
       "version_minor": 0
      },
      "text/plain": [
       "  0%|          | 0/4000 [00:00<?, ?it/s]"
      ]
     },
     "metadata": {},
     "output_type": "display_data"
    },
    {
     "data": {
      "application/vnd.jupyter.widget-view+json": {
       "model_id": "",
       "version_major": 2,
       "version_minor": 0
      },
      "text/plain": [
       "  0%|          | 0/4000 [00:00<?, ?it/s]"
      ]
     },
     "metadata": {},
     "output_type": "display_data"
    },
    {
     "data": {
      "application/vnd.jupyter.widget-view+json": {
       "model_id": "",
       "version_major": 2,
       "version_minor": 0
      },
      "text/plain": [
       "  0%|          | 0/4000 [00:00<?, ?it/s]"
      ]
     },
     "metadata": {},
     "output_type": "display_data"
    },
    {
     "data": {
      "application/vnd.jupyter.widget-view+json": {
       "model_id": "",
       "version_major": 2,
       "version_minor": 0
      },
      "text/plain": [
       "  0%|          | 0/4000 [00:00<?, ?it/s]"
      ]
     },
     "metadata": {},
     "output_type": "display_data"
    },
    {
     "data": {
      "application/vnd.jupyter.widget-view+json": {
       "model_id": "",
       "version_major": 2,
       "version_minor": 0
      },
      "text/plain": [
       "  0%|          | 0/4000 [00:00<?, ?it/s]"
      ]
     },
     "metadata": {},
     "output_type": "display_data"
    },
    {
     "data": {
      "application/vnd.jupyter.widget-view+json": {
       "model_id": "",
       "version_major": 2,
       "version_minor": 0
      },
      "text/plain": [
       "  0%|          | 0/4000 [00:00<?, ?it/s]"
      ]
     },
     "metadata": {},
     "output_type": "display_data"
    },
    {
     "data": {
      "application/vnd.jupyter.widget-view+json": {
       "model_id": "",
       "version_major": 2,
       "version_minor": 0
      },
      "text/plain": [
       "  0%|          | 0/4000 [00:00<?, ?it/s]"
      ]
     },
     "metadata": {},
     "output_type": "display_data"
    },
    {
     "data": {
      "application/vnd.jupyter.widget-view+json": {
       "model_id": "",
       "version_major": 2,
       "version_minor": 0
      },
      "text/plain": [
       "  0%|          | 0/4000 [00:00<?, ?it/s]"
      ]
     },
     "metadata": {},
     "output_type": "display_data"
    },
    {
     "data": {
      "application/vnd.jupyter.widget-view+json": {
       "model_id": "",
       "version_major": 2,
       "version_minor": 0
      },
      "text/plain": [
       "  0%|          | 0/4000 [00:00<?, ?it/s]"
      ]
     },
     "metadata": {},
     "output_type": "display_data"
    },
    {
     "data": {
      "application/vnd.jupyter.widget-view+json": {
       "model_id": "",
       "version_major": 2,
       "version_minor": 0
      },
      "text/plain": [
       "  0%|          | 0/4000 [00:00<?, ?it/s]"
      ]
     },
     "metadata": {},
     "output_type": "display_data"
    },
    {
     "data": {
      "application/vnd.jupyter.widget-view+json": {
       "model_id": "",
       "version_major": 2,
       "version_minor": 0
      },
      "text/plain": [
       "  0%|          | 0/4000 [00:00<?, ?it/s]"
      ]
     },
     "metadata": {},
     "output_type": "display_data"
    },
    {
     "data": {
      "application/vnd.jupyter.widget-view+json": {
       "model_id": "",
       "version_major": 2,
       "version_minor": 0
      },
      "text/plain": [
       "  0%|          | 0/4000 [00:00<?, ?it/s]"
      ]
     },
     "metadata": {},
     "output_type": "display_data"
    },
    {
     "data": {
      "application/vnd.jupyter.widget-view+json": {
       "model_id": "",
       "version_major": 2,
       "version_minor": 0
      },
      "text/plain": [
       "  0%|          | 0/4000 [00:00<?, ?it/s]"
      ]
     },
     "metadata": {},
     "output_type": "display_data"
    },
    {
     "data": {
      "application/vnd.jupyter.widget-view+json": {
       "model_id": "",
       "version_major": 2,
       "version_minor": 0
      },
      "text/plain": [
       "  0%|          | 0/4000 [00:00<?, ?it/s]"
      ]
     },
     "metadata": {},
     "output_type": "display_data"
    },
    {
     "data": {
      "application/vnd.jupyter.widget-view+json": {
       "model_id": "",
       "version_major": 2,
       "version_minor": 0
      },
      "text/plain": [
       "  0%|          | 0/4000 [00:00<?, ?it/s]"
      ]
     },
     "metadata": {},
     "output_type": "display_data"
    },
    {
     "data": {
      "application/vnd.jupyter.widget-view+json": {
       "model_id": "",
       "version_major": 2,
       "version_minor": 0
      },
      "text/plain": [
       "  0%|          | 0/4000 [00:00<?, ?it/s]"
      ]
     },
     "metadata": {},
     "output_type": "display_data"
    },
    {
     "data": {
      "application/vnd.jupyter.widget-view+json": {
       "model_id": "",
       "version_major": 2,
       "version_minor": 0
      },
      "text/plain": [
       "  0%|          | 0/4000 [00:00<?, ?it/s]"
      ]
     },
     "metadata": {},
     "output_type": "display_data"
    }
   ],
   "source": [
    "total_T = []\n",
    "\n",
    "for q in tqdm(range(len(test_set))):\n",
    "    Q = []\n",
    "\n",
    "    for i, train_row in tqdm(train_set.iterrows(), total = len(train_set), leave=False):\n",
    "        Q.append(bertscore.compute(predictions=[test_set.iloc[q]['context']], references=[train_row['context']], lang='en')['f1'])\n",
    "    \n",
    "    Q = np.asarray(Q)\n",
    "    Q.shape\n",
    "\n",
    "    T = []\n",
    "\n",
    "    labs = ['n', 'c', 'e']\n",
    "    \n",
    "    for label in labs:\n",
    "        m = 0\n",
    "        im = 0\n",
    "        \n",
    "        ll = list(train_set['label'] == label)\n",
    "        lll = [i for i in range(len(train_set)) if ll[i]]\n",
    "\n",
    "        for j in list(set(lll)-set(T)):\n",
    "\n",
    "            if len(T) == 0:\n",
    "                mm = 0\n",
    "            else:\n",
    "                mm = max(S[j])\n",
    "\n",
    "            v = l*Q[j] + (1-l)*mm\n",
    "\n",
    "            if v > m:\n",
    "                m = v\n",
    "                im = j\n",
    "\n",
    "        if train_set.iloc[im]['label'] in [x['label'] for i, x in train_set.iloc[T].iterrows()]:\n",
    "            continue\n",
    "        \n",
    "        T += [im]\n",
    "    \n",
    "    total_T.append(T)"
   ]
  },
  {
   "cell_type": "code",
   "execution_count": 185,
   "id": "f5f635c1",
   "metadata": {},
   "outputs": [],
   "source": [
    "T_list = set([x for sub in total_T for x in sub])"
   ]
  },
  {
   "cell_type": "code",
   "execution_count": 186,
   "id": "ef477d5f",
   "metadata": {},
   "outputs": [
    {
     "data": {
      "text/plain": [
       "'c'"
      ]
     },
     "execution_count": 186,
     "metadata": {},
     "output_type": "execute_result"
    }
   ],
   "source": [
    "train_set.iloc[0]['label']"
   ]
  },
  {
   "cell_type": "code",
   "execution_count": 187,
   "id": "6c91ca93",
   "metadata": {},
   "outputs": [
    {
     "data": {
      "text/plain": [
       "138"
      ]
     },
     "execution_count": 187,
     "metadata": {},
     "output_type": "execute_result"
    }
   ],
   "source": [
    "len(T_list)"
   ]
  },
  {
   "cell_type": "code",
   "execution_count": 188,
   "id": "457b4011",
   "metadata": {},
   "outputs": [
    {
     "data": {
      "text/plain": [
       "60"
      ]
     },
     "execution_count": 188,
     "metadata": {},
     "output_type": "execute_result"
    }
   ],
   "source": [
    "len(total_T)"
   ]
  },
  {
   "cell_type": "code",
   "execution_count": 189,
   "id": "5f61b29e",
   "metadata": {},
   "outputs": [],
   "source": [
    "train_set.to_csv('./MMR_train_set_new.csv')\n",
    "test_set.to_csv('./MMR_test_set_new.csv')\n",
    "\n",
    "with open('./MMR_map_new.pkl', 'wb') as f:\n",
    "    pickle.dump(total_T, f)"
   ]
  },
  {
   "cell_type": "code",
   "execution_count": 17,
   "id": "29b310ae",
   "metadata": {},
   "outputs": [],
   "source": [
    "train_set.iloc[list(T_list)][:39].to_csv('./MRR_exampler_masoon.csv')"
   ]
  },
  {
   "cell_type": "code",
   "execution_count": 18,
   "id": "67f32bbb",
   "metadata": {},
   "outputs": [],
   "source": [
    "train_set.iloc[list(T_list)][39:].to_csv('./MRR_exampler_azimi.csv')"
   ]
  },
  {
   "cell_type": "code",
   "execution_count": 34,
   "id": "2431f711",
   "metadata": {},
   "outputs": [],
   "source": [
    "train_set['ex'] = ''"
   ]
  },
  {
   "cell_type": "code",
   "execution_count": 48,
   "id": "83bad4bb",
   "metadata": {},
   "outputs": [],
   "source": [
    "for i, j in enumerate(T_list):\n",
    "    train_set.at[train_set.index[j], 'ex'] = prompt_list[i]"
   ]
  },
  {
   "cell_type": "code",
   "execution_count": 131,
   "id": "7f87a62e",
   "metadata": {},
   "outputs": [],
   "source": [
    "train_set['exp_only'] = ''"
   ]
  },
  {
   "cell_type": "code",
   "execution_count": 147,
   "id": "bb81dfd0",
   "metadata": {},
   "outputs": [],
   "source": [
    "for i, j in enumerate(T_list):\n",
    "    train_set.at[train_set.index[j], 'exp_only'] = f\"\"\"Q: What is the relationship between the following context and hypothesis? (I have three kinds of relationship: entailment, neutral, and contradiction)\\n\n",
    "Context: {train_set.iloc[j]['context']}\n",
    "Hypothesis: {train_set.iloc[j]['hypothesis']}\n",
    "\n",
    "A: The relationship based on the given context and hypothesis is \"{'contradiction' if train_set.iloc[j]['label'] == 'c' else 'neutral' if train_set.iloc[j]['label'] == 'n' else 'entailment'}\".\n",
    "The label is \"{train_set.iloc[j]['label']}\".\\n\\n\"\"\""
   ]
  },
  {
   "cell_type": "code",
   "execution_count": 58,
   "id": "5e53e571",
   "metadata": {},
   "outputs": [],
   "source": [
    "test_set['exs'] = ''"
   ]
  },
  {
   "cell_type": "code",
   "execution_count": null,
   "id": "5d9f066a",
   "metadata": {},
   "outputs": [],
   "source": [
    "train_set"
   ]
  },
  {
   "cell_type": "code",
   "execution_count": 150,
   "id": "701215f2",
   "metadata": {
    "scrolled": true
   },
   "outputs": [
    {
     "data": {
      "text/plain": [
       "[[95, 462, 314],\n",
       " [485, 462, 448],\n",
       " [218, 353, 146],\n",
       " [476, 72, 149],\n",
       " [356, 462, 202],\n",
       " [56, 165, 55],\n",
       " [487, 496, 198],\n",
       " [134, 152, 369],\n",
       " [379, 214, 475],\n",
       " [497, 171, 12],\n",
       " [311, 7, 301],\n",
       " [95, 18, 390],\n",
       " [98, 386, 146],\n",
       " [95, 406, 146],\n",
       " [218, 462, 149],\n",
       " [379, 375, 232],\n",
       " [471, 361, 221],\n",
       " [89, 375, 232],\n",
       " [287, 171, 417],\n",
       " [162, 406, 417],\n",
       " [402, 208, 205],\n",
       " [228, 462, 448],\n",
       " [162, 406, 387],\n",
       " [225, 171, 86],\n",
       " [77, 152, 403],\n",
       " [339, 171, 149],\n",
       " [162, 152, 86],\n",
       " [98, 427, 167],\n",
       " [487, 496, 14],\n",
       " [83, 361, 221],\n",
       " [89, 462, 290],\n",
       " [424, 375, 232],\n",
       " [89, 462, 14],\n",
       " [162, 18, 70],\n",
       " [407, 375, 232],\n",
       " [487, 496, 198],\n",
       " [487, 496, 204],\n",
       " [162, 375, 232],\n",
       " [464, 171, 20],\n",
       " [487, 462, 204],\n",
       " [379, 462, 365],\n",
       " [196, 466, 146],\n",
       " [196, 462, 146],\n",
       " [392, 238, 86],\n",
       " [379, 496, 232],\n",
       " [379, 214, 475],\n",
       " [162, 171, 360],\n",
       " [162, 462, 373],\n",
       " [356, 462, 204],\n",
       " [162, 165, 221],\n",
       " [162, 462, 229],\n",
       " [487, 496, 198],\n",
       " [487, 496, 204],\n",
       " [402, 406, 426],\n",
       " [402, 462, 426],\n",
       " [218, 171, 86],\n",
       " [379, 375, 475],\n",
       " [487, 496, 198],\n",
       " [225, 462, 146],\n",
       " [483, 208, 34]]"
      ]
     },
     "execution_count": 150,
     "metadata": {},
     "output_type": "execute_result"
    }
   ],
   "source": [
    "total_T"
   ]
  },
  {
   "cell_type": "code",
   "execution_count": 151,
   "id": "1cc4a87e",
   "metadata": {
    "scrolled": true
   },
   "outputs": [],
   "source": [
    "test_set['exp_only'] = ''\n",
    "\n",
    "for j, (i, row) in enumerate(test_set.iterrows()):\n",
    "    test_set.at[i, 'exp_only'] = '\\n'.join([train_set.iloc[x]['exp_only'] for x in total_T[j]])"
   ]
  },
  {
   "cell_type": "code",
   "execution_count": 78,
   "id": "960955c5",
   "metadata": {},
   "outputs": [
    {
     "data": {
      "application/vnd.jupyter.widget-view+json": {
       "model_id": "e4be88cbae9048c68d805697717538cb",
       "version_major": 2,
       "version_minor": 0
      },
      "text/plain": [
       "  0%|          | 0/60 [00:00<?, ?it/s]"
      ]
     },
     "metadata": {},
     "output_type": "display_data"
    }
   ],
   "source": [
    "for j, (i, row) in tqdm(enumerate(test_set.iterrows()), total = len(test_set)):\n",
    "    test_set.at[i, 'exs'] = list(train_set.iloc[total_T[j]]['ex'].values)"
   ]
  },
  {
   "cell_type": "code",
   "execution_count": 121,
   "id": "e1d14663",
   "metadata": {},
   "outputs": [
    {
     "name": "stdout",
     "output_type": "stream",
     "text": [
      "0\n"
     ]
    }
   ],
   "source": [
    "c = set()\n",
    "for i, row in test_set.iterrows():\n",
    "    for j in range(3):\n",
    "        if row['exs'][j][:1] != 'Q':\n",
    "#             test_set.at[i, 'exs'][j] = 'Q: ' + row['exs'][j]\n",
    "            print(row['exs'][j])\n",
    "            \n",
    "            c.add(row['exs'][j])\n",
    "print(len(c))"
   ]
  },
  {
   "cell_type": "code",
   "execution_count": null,
   "id": "5410fc36",
   "metadata": {},
   "outputs": [],
   "source": [
    "test_set['prompt'] = ''\n",
    "for i, row in test_set.iterrows():\n",
    "    print('\\n'.row['exs'])\n",
    "    break"
   ]
  },
  {
   "cell_type": "code",
   "execution_count": 155,
   "id": "ff323431",
   "metadata": {},
   "outputs": [],
   "source": [
    "test_set.to_csv('MMR_final.csv')"
   ]
  },
  {
   "cell_type": "code",
   "execution_count": 32,
   "id": "5f3bf26f",
   "metadata": {},
   "outputs": [],
   "source": [
    "prompt_list = [\n",
    "\"\"\"What is the relationship between the following premise and hypothesis? (I have three kinds of relationship: entailment, neutral, and contradiction)\n",
    "Context: How to cook ribs in the oven<br>Prepare the ribs. Remove ribs from the packaging and pull off the membrane, which is usually attached to the underside of the rib cage. Combine all dry ingredients in a medium bowl.\n",
    "Hypothesis: This is about cooking human ribs.\n",
    "\n",
    "A: The context focuses on a common cooking technique, while the hypothesis introduces a disturbing and morally unacceptable idea. Therefore, there is a clear contradiction.\n",
    "The label is \"c\".\"\"\",\n",
    "\n",
    "\"\"\"What is the relationship between the following premise and hypothesis? (I have three kinds of relationship: entailment, neutral, and contradiction)\n",
    "Context: The Lega Basket Serie A (LBA) Most Valuable Player (MVP) is an annual award of the 1st-tier professional basketball league in Italy, the Lega Basket Serie A (LBA), given since the 1993â€“94 season, to the league's most valuable player in a given regular season.\n",
    "Hypothesis: It has been given out since the last century.\n",
    "\n",
    "A: Since the last century refers to the time period starting from the year 1900, which includes the 1990s, it is logical to conclude that the LBA MVP award has been given out during that time. The hypothesis is an expansion of the information provided in the context, making it an entailment.\n",
    "The label is \"e\".\"\"\",\n",
    "\n",
    "\"\"\"What is the relationship between the following premise and hypothesis? (I have three kinds of relationship: entailment, neutral, and contradiction)\n",
    "Context: Four Pink Walls is the debut extended play (EP) by Canadian singer Alessia Cara. It was released on August 26, 2015 through Def Jam. With all songs containing writing by Cara, the preview of her upcoming debut studio album \"Know-It-All\" also includes major songwriting and production contributions from the duo Pop & Oak.\n",
    "Hypothesis: Cara is a song writer.\n",
    "\n",
    "A: The context states that all the songs in the EP were written by Alessia Cara, and it also mentions that her upcoming debut studio album includes major songwriting contributions from her. Therefore, it can be inferred that Alessia Cara is indeed a songwriter.\n",
    "The label is \"e\".\"\"\",\n",
    "\n",
    "\"\"\"What is the relationship between the following premise and hypothesis? (I have three kinds of relationship: entailment, neutral, and contradiction)\n",
    "Context: Diamond Ring was an independent Japanese professional wrestling promotion that, until 2012, was known as Kensuke Office. The promotion was founded by and is owned by puroresu legend Kensuke Sasaki, who has owned and operated it since its creation in 2005. In February 2014 the promotion ran its last card, after which Sasaki announced his retirement.\n",
    "Hypothesis:  The promotion was founded by and is owned by Sir Sean Connery.\n",
    "\n",
    "A: The reason is that the context clearly states that the promotion, Diamond Ring, was founded by and is owned by Kensuke Sasaki, a puroresu legend. However, the hypothesis suggests that the promotion was founded by and is owned by Sir Sean Connery, which directly contradicts the information provided in the context.\n",
    "The label is \"c\".\"\"\",\n",
    "\n",
    "\"\"\"What is the relationship between the following premise and hypothesis? (I have three kinds of relationship: entailment, neutral, and contradiction)\n",
    "Context: Reagan was seriously wounded by a bullet fired by John Hinckley Jr. in an attempted assassination, but made a remarkably speedy recovery.\n",
    "Hypothesis: John Hinckley Jr. shot Reagan.\n",
    "\n",
    "A: the context explicitly states that Reagan was wounded by a bullet fired by John Hinckley Jr. This information directly aligns with the hypothesis, which states that John Hinckley Jr. shot Reagan.\n",
    "The label is \"e\".\"\"\",\n",
    "\n",
    "\"\"\"What is the relationship between the following premise and hypothesis? (I have three kinds of relationship: entailment, neutral, and contradiction)\n",
    "Context: Gerard Johnson (Dutch: \"Gheerart Janssen\"; fl. 1612â€“1623) was a sculptor working in Jacobean England who is thought to have created Shakespeare's funerary monument. In May 1612 he was paid for making part of a fountain for the east garden at Hatfield House, Hertfordshire.\n",
    "Hypothesis: Gerard Johnson lived in England.\n",
    "\n",
    "A: the context explicitly states that Reagan was wounded by a bullet fired by John Hinckley Jr. This information directly aligns with the hypothesis, which states that John Hinckley Jr. shot Reagan.\n",
    "The label is \"e\".\"\"\",\n",
    "\n",
    "\"\"\"What is the relationship between the following premise and hypothesis? (I have three kinds of relationship: entailment, neutral, and contradiction)\n",
    "Context: Coniston Water in Cumbria is the third largest lake in the English Lake District. It is five miles long by half a mile wide (8Â km by 800Â m), has a maximum depth of 184 feet (56Â m), and covers an area of 1.89 sqmi . The lake has an elevation of 143 feet (44Â m) above sea level. It drains to the sea via the River Crake.\n",
    "Hypothesis: conister water is a lake in England and it is amongst the largest lake in the English lake district\n",
    "\n",
    "A: The context provides specific information about Coniston Water, including its size, location, and ranking among other lakes in the region. The hypothesis, which states that Coniston Water is a lake in England and one of the largest in the English Lake District, aligns with the information provided in the context. Therefore, the relationship between the context and hypothesis is one of entailment.\n",
    "The label is \"e\".\"\"\",\n",
    "\n",
    "\"\"\"What is the relationship between the following premise and hypothesis? (I have three kinds of relationship: entailment, neutral, and contradiction)\n",
    "Context: Flat Fell is a hill located on the edge of the English Lake District, standing at 272m. It is included in Alfred Wainwright's \"Outlying Fells of Lakeland\" book, sharing a chapter with Dent. Wainwright's clockwise route to the two summits starts at Wath Brow.\n",
    "Hypothesis: the agent is aged 28\n",
    "\n",
    "A:  The context primarily focuses on the geographical details of Flat Fell, its location, and its inclusion in Alfred Wainwright's book. It does not mention anything related to the age of the agent or provide any relevant information that can confirm or contradict the hypothesis. Therefore, the relationship between the context and hypothesis remains neutral.\n",
    "The label is \"n\".\"\"\",\n",
    "\n",
    "\"\"\"What is the relationship between the following premise and hypothesis? (I have three kinds of relationship: entailment, neutral, and contradiction)\n",
    "Context: Street lights<br>Ben lived on a dark street. There was an increase of car break-ins in his neighborhood. Ben started a petition to get street lights for his street. After the lights were placed, crime on his street dropped. The neighbors were glad that Ben started the petition.\n",
    "Hypothesis: Ben no longer lived on a dark street.\n",
    "\n",
    "A:  This statement is directly entailed by the information provided in the context. Since street lights were installed as a result of Ben's petition and crime decreased, it can be inferred that the street is no longer dark. Thus, the hypothesis is a logical consequence of the given context, and there is an entailment relationship between them.\n",
    "The label is \"e\".\"\"\",\n",
    "\n",
    "\"\"\"What is the relationship between the following premise and hypothesis? (I have three kinds of relationship: entailment, neutral, and contradiction)\n",
    "Context: In Greek mythology, Orthrus (Greek: á½ŒÏÎ¸ÏÎ¿Ï‚ , \"Orthros\") or Orthus (Greek: á½ŒÏÎ¸Î¿Ï‚ , \"Orthos\") was, according to the mythographer Apollodorus, a two-headed dog who guarded Geryon's cattle and was killed by Heracles. He was the offspring of the monsters Echidna and Typhon, and the brother of Cerberus, who was also a multi-headed guard dog.\n",
    "Hypothesis: Orthrus is from Norse mythology.\n",
    "\n",
    "A: The reason is that the context clearly states that Orthrus is from Greek mythology, specifically mentioning his parentage, sibling, and role in guarding Geryon's cattle. On the other hand, the hypothesis suggests that Orthrus is from Norse mythology, which contradicts the information provided in the context. Therefore, there is a contradiction between the information in the context and the hypothesis, indicating an inconsistency or factual inaccuracy.\n",
    "The label is \"c\".\"\"\",\n",
    "\n",
    "\"\"\"What is the relationship between the following premise and hypothesis? (I have three kinds of relationship: entailment, neutral, and contradiction)\n",
    "Context: All ministers I met with this week know it is our obligation to show leadership and to work together to come up with a package of risk management tools that the government could be involved in to encourage producers to get involved in what I refer to as commercial risk management.\n",
    "Hypothesis: Producers will be receptive to the package that the ministers will put together.\n",
    "\n",
    "A:  The context merely states that the ministers acknowledge their obligation to work together and come up with a package of risk management tools. However, it does not provide any direct information about the receptiveness of producers to the package. Therefore, without additional evidence or details, it is not possible to ascertain whether the hypothesis is true (entailment) or false (contradiction). The relationship remains neutral due to the lack of conclusive support or contradiction within the given context.\n",
    "The label is \"n\".\"\"\",\n",
    "\n",
    "\"\"\"What is the relationship between the following premise and hypothesis? (I have three kinds of relationship: entailment, neutral, and contradiction)\n",
    "Context: \"Automation\" is a politically dirty word right now in the U.S. But in China, it's a buzzword that politicians love to repeat. China is installing more robots than any other country, and it's a top priority for the Chinese government. WBUR's Asma Khalid (@asmamk) traveled to the country for more on what this automation revolution looks like.\n",
    "Hypothesis: China is building 1 million robots.\n",
    "\n",
    "A: The context mentions that China is installing more robots than any other country and that it is a top priority for the Chinese government, but it does not mention any specific numbers or quantities. Therefore, the hypothesis stating that China is building 1 million robots cannot be confirmed or contradicted by the given context, leading to a neutral relationship between the two.\n",
    "The label is \"n\".\"\"\",\n",
    "\n",
    "\"\"\"What is the relationship between the following premise and hypothesis? (I have three kinds of relationship: entailment, neutral, and contradiction)\n",
    "Context: These acoustic methods are now expected to be useful for the long-range remote sensing of schools of fish as well as for distant ocean bottom characterizations.\n",
    "Hypothesis: Acoustic methods are expected to be utilized.\n",
    "\n",
    "A:  the context states that \"acoustic methods are now expected to be useful for the long-range remote sensing of schools of fish as well as for distant ocean bottom characterizations.\" The hypothesis states that \"acoustic methods are expected to be utilized.\" Since the context explicitly mentions that these methods are expected to be useful, it logically follows that they will also be utilized. The hypothesis aligns with and expands upon the information presented in the context, making it an entailment.\n",
    "The label is \"e\".\"\"\",\n",
    "\n",
    "\"\"\"What is the relationship between the following premise and hypothesis? (I have three kinds of relationship: entailment, neutral, and contradiction)\n",
    "Context: Assassin's Creed is an action-adventure stealth video game developed by Ubisoft Montreal and published by Ubisoft. It is the first installment in the \"Assassin's Creed\" series. The game was released for PlayStation 3 and Xbox 360 in November 2007, and was made available on Microsoft Windows in April 2008.\n",
    "Hypothesis: Assassin's Creed had an anniversary 2008\n",
    "\n",
    "A: While the context mentions the release dates of the game for different platforms, it does not specify or imply anything about an anniversary in 2008. Therefore, there is no contradiction or entailment between the context and the hypothesis, resulting in a neutral relationship.\n",
    "The label is \"n\".\"\"\",\n",
    "\n",
    "\"\"\"What is the relationship between the following premise and hypothesis? (I have three kinds of relationship: entailment, neutral, and contradiction)\n",
    "Context: Brian James Anderson (born April 26, 1972) is an American former Major League Baseball pitcher, who played 13 seasons for five teams, as well as a sports broadcaster and coach. Currently, Anderson is the color commentator on the Rays TV crew on Sun Sports.\n",
    "Hypothesis: Anderson was a bad coach.\n",
    "\n",
    "A: The context primarily focuses on Anderson's career as a Major League Baseball pitcher, sports broadcasting, and his current role as a color commentator. It does not mention or evaluate his coaching performance. Therefore, without additional information, it is not possible to determine whether Anderson was a good or bad coach based solely on the provided context. Hence, the relationship is classified as neutral.\n",
    "The label is \"n\".\"\"\",\n",
    "\n",
    "\"\"\"What is the relationship between the following premise and hypothesis? (I have three kinds of relationship: entailment, neutral, and contradiction)\n",
    "Context: Becky Ann Baker (born February 17, 1953) is an American actress who is known for her portrayal of Jean Weir on NBC's Emmy Award-winning \"Freaks and Geeks\" and for her role as Loreen Horvath on HBO's Emmy Award-winning \"Girls\", for which she received a Primetime Emmy nomination.\n",
    "Hypothesis: Becky Ann Baker has never traveled outside of the USA.\n",
    "\n",
    "A: The context primarily focuses on her acting career and notable roles, without mentioning anything specific about her travel experiences. Therefore, there is no evidence to support or contradict the hypothesis that she has never traveled outside of the USA. The lack of information regarding her travel history in the context results in a neutral relationship.\n",
    "The label is \"n\".\"\"\",\n",
    "\n",
    "\"\"\"What is the relationship between the following premise and hypothesis? (I have three kinds of relationship: entailment, neutral, and contradiction)\n",
    "Context: Weimar Republic (German: \"Weimarer Republik\" ] ) was an unofficial, historical designation for the German state between 1919 and 1933. The name derives from the city of Weimar, where its constitutional assembly first took place. The official name of the state was \"Deutsches Reich\"; it had remained unchanged since 1871. In English the country was usually known simply as Germany.\n",
    "Hypothesis: People were unhappy about the name Weimar Republic designated for the German State.\n",
    "\n",
    "A: While the context describes the historical designation and the official name of the German state during that period, it does not mention or imply whether people were unhappy or satisfied with the name. Therefore, there is no evidence to support either agreement or disagreement with the hypothesis, resulting in a neutral relationship.\n",
    "The label is \"n\".\"\"\",\n",
    "\n",
    "\"\"\"What is the relationship between the following premise and hypothesis? (I have three kinds of relationship: entailment, neutral, and contradiction)\n",
    "Context: Boris Cabrera (born December 16, 1980 in Inglewood, California), is a former actor. Cabrera is primarily known as originating the role of Marco in the live-adaptation television series of the long-running book series \"Animorphs\". He left the entertainment industry in the early 2000s and became a personal fitness trainer.\n",
    "Hypothesis: Boris Cabrera was the first Marco from Animorphs on TV.\n",
    "\n",
    "A: n the context, it is mentioned that Boris Cabrera originated the role of Marco in the live-adaptation television series of the book series \"Animorphs.\" The hypothesis states that Boris Cabrera was the first Marco from Animorphs on TV. Since Boris Cabrera is specifically mentioned as originating the role of Marco, it implies that he was indeed the first actor to portray Marco in the TV adaptation. Therefore, the hypothesis is entailed by the information presented in the context, leading to an entailment relationship.\n",
    "The label is \"e\".\"\"\",\n",
    "\n",
    "\"\"\"What is the relationship between the following premise and hypothesis? (I have three kinds of relationship: entailment, neutral, and contradiction)\n",
    "Context: The Ainsworth Psalter was written by English Separatist clergyman Henry Ainsworth and was brought to America by the Pilgrims in 1620. It was published in Holland in 1612. It is a parallel translation, including a literal rendering of the Psalms and an accompanying metrical Psalms.\n",
    "Hypothesis: The Ainsworth Psalter made its way to the colonies\n",
    "\n",
    "A: The context explicitly states that the Ainsworth Psalter was brought to America by the Pilgrims in 1620 and published in Holland in 1612. Since the colonies mentioned in the hypothesis refer to America, it can be inferred that the Ainsworth Psalter did make its way to the colonies based on the information provided in the context. Therefore, the hypothesis is a logical consequence of the context, establishing an entailment relationship.\n",
    "The label is \"e\".\"\"\",\n",
    "\n",
    "\"\"\"What is the relationship between the following premise and hypothesis? (I have three kinds of relationship: entailment, neutral, and contradiction)\n",
    "Context: The Appalachian Regional Commission (ARC) is a United States federal-state partnership that works with the people of Appalachia to create opportunities for self-sustaining economic development and improved quality of life. Congress established ARC to bring the region into socioeconomic parity with the rest of the nation.\n",
    "Hypothesis: The Appalachian Regional Commission (ARC) is a United States federal-state partnership that works with the people of Apparant\n",
    "\n",
    "A: the hypothesis incorrectly states that the ARC works with the people of \"Apparant,\" which is not a valid or recognized location. In the context, it is mentioned that the ARC works with the people of Appalachia, not \"Apparant.\" Therefore, the hypothesis contradicts the information provided in the context.\n",
    "The label is \"c\".\"\"\",\n",
    "\n",
    "\"\"\"What is the relationship between the following premise and hypothesis? (I have three kinds of relationship: entailment, neutral, and contradiction)\n",
    "Context: The American Wrestling Association (AWA) was an American professional wrestling promotion based in Minneapolis, Minnesota that ran from 1960 to 1991. It was owned and founded by Verne Gagne and Wally Karbo. The territory was originally part of the National Wrestling Alliance (NWA), becoming an independent territory in the late 1950s.\n",
    "Hypothesis: Verne and Wally did not get along\n",
    "\n",
    "A: The context provides information about the American Wrestling Association (AWA), its ownership, and its history within the larger wrestling industry. However, it does not explicitly mention the relationship between Verne Gagne and Wally Karbo, the founders of AWA. Therefore, without additional information, we cannot determine whether Verne and Wally got along or not. Hence, the relationship is considered neutral.\n",
    "The label is \"n\".\"\"\",\n",
    "\n",
    "\"\"\"What is the relationship between the following premise and hypothesis? (I have three kinds of relationship: entailment, neutral, and contradiction)\n",
    "Context: Desert Rock Airport is a private-use airport located three miles (5 km) southwest of the central business district of Mercury, in Nye County, Nevada, United States. The airport is located on the Nevada Test Site and is owned by the United States Department of Energy.\n",
    "Hypothesis: Desert Rock Airport is owned and operated autonomously by Nye County, Nevada.\n",
    "\n",
    "A: he context clearly states that Desert Rock Airport is owned by the United States Department of Energy, while the hypothesis states that it is owned and operated autonomously by Nye County, Nevada. These statements directly conflict with each other, indicating a contradiction. The context explicitly mentions the ownership by the United States Department of Energy, which contradicts the hypothesis that claims ownership by Nye County, Nevada.\n",
    "The label is \"c\".\"\"\",\n",
    "\n",
    "\"\"\"What is the relationship between the following premise and hypothesis? (I have three kinds of relationship: entailment, neutral, and contradiction)\n",
    "Context: Jeremy Lee Renner (born January 7, 1971) is an American actor. He appeared largely in independent films, such as \"Dahmer\" (2002) and \"Neo Ned\" (2005). Renner appeared in supporting roles in bigger films, such as \"S.W.A.T.\" (2003) and \"28 Weeks Later\" (2007). He was nominated for the Academy Award for Best Supporting Actor for his much-praised performance in \"The Town\" (2010).\n",
    "Hypothesis: Jeremy Lee Renner is a male. \n",
    "\n",
    "A: This is because the context explicitly states that Jeremy Lee Renner is an American actor and refers to him using male pronouns (\"He\"). Therefore, the hypothesis, which asserts that Jeremy Lee Renner is a male, aligns with and is supported by the information provided in the context. The context provides evidence and supports the truthfulness of the hypothesis, making it an example of entailment.\n",
    "The label is \"e\".\"\"\",\n",
    "\n",
    "\"\"\"What is the relationship between the following premise and hypothesis? (I have three kinds of relationship: entailment, neutral, and contradiction)\n",
    "Context: The chain of events which led to the collapse of Barings, Britain's oldest merchant bank, is a demonstration of how not to manage a derivatives operation.\n",
    "Hypothesis: Barings was the second oldest merchant bank.\n",
    "\n",
    "A:  the context clearly states that Barings is Britain's oldest merchant bank, while the hypothesis claims that Barings was the second oldest merchant bank. These two statements directly conflict with each other and cannot both be true at the same time. Therefore, the relationship between the context and hypothesis is categorized as a contradiction.\n",
    "The label is \"c\".\"\"\",\n",
    "\n",
    "\"\"\"What is the relationship between the following premise and hypothesis? (I have three kinds of relationship: entailment, neutral, and contradiction)\n",
    "Context: Warrington-born Chris Evans denies he went wild, despite quitting Radio 1 in 1997 and later being sacked by Virgin Radio for not turning up for work during a five-day drinking binge.\n",
    "Hypothesis: Warrington-born Chris Evans is not a fan of the Disney era Star Wars films.\n",
    "\n",
    "A: The context primarily discusses Chris Evans' professional history, including quitting Radio 1 and being sacked by Virgin Radio. It does not provide any information or clues about his opinions or preferences regarding the Disney era Star Wars films mentioned in the hypothesis. Therefore, without any relevant information in the context, the relationship between the context and hypothesis remains neutral.\n",
    "The label is \"n\".\"\"\",\n",
    "\n",
    "\"\"\"What is the relationship between the following premise and hypothesis? (I have three kinds of relationship: entailment, neutral, and contradiction)\n",
    "Context: \"Edge of a Revolution\" is a single by Canadian rock band Nickelback from their eighth studio album, \"No Fixed Address\". It was released as the album's lead single on August 18, 2014. It went for Active Rock adds on August 18, and was premiered on Clear Channel radio stations. It was released for sale on August 19, 2014. This was the first release under Nickelback's new label, Republic Records.\n",
    "Hypothesis: \"Edge of a Revolution\" is a single by a famous Canadian rock band first release under their new label, Republic Records.\n",
    "\n",
    "A: The context clearly states that \"Edge of a Revolution\" is a single by Canadian rock band Nickelback from their eighth studio album, \"No Fixed Address,\" and it was released as the album's lead single on August 18, 2014. It also mentions that this was the first release under Nickelback's new label, Republic Records. Therefore, the hypothesis can be considered an entailment of the context because it logically follows from the given information.\n",
    "The label is \"e\".\"\"\",\n",
    "\n",
    "\"\"\"What is the relationship between the following premise and hypothesis? (I have three kinds of relationship: entailment, neutral, and contradiction)\n",
    "Context: For the World is the first Japan mini-album by Korean hip-hop group Big Bang. The mini-album contains eight English songs with hip-hop, dance, and soul elements, co-composed and written by band member G-Dragon. The album charted on Oricon at the 10th place.\n",
    "Hypothesis: Big Bang sing songs in a foreign language.\n",
    "\n",
    "A: This is because the context explicitly states that the mini-album \"For the World\" by Big Bang contains eight English songs. The hypothesis, \"Big Bang sings songs in a foreign language,\" aligns with this information, as English is indeed a foreign language for the Korean hip-hop group. Therefore, the hypothesis can be inferred or derived from the context, making it an example of entailment.\n",
    "The label is \"e\".\"\"\",\n",
    "\n",
    "\"\"\"What is the relationship between the following premise and hypothesis? (I have three kinds of relationship: entailment, neutral, and contradiction)\n",
    "Context: \"Pretty Good Year\" is a single by the American singer-songwriter Tori Amos, taken from her second album \"Under the Pink\". It was released as the second single from the album in Europe in March 1994, and the fourth single from the album in Australia in November 1994. It was not released as a single in North America.\n",
    "Hypothesis: Tori Amos did not release this song in the US.\n",
    "\n",
    "A: the context explicitly states that the song \"Pretty Good Year\" was not released as a single in North America. The hypothesis states that Tori Amos did not release this song in the US, which aligns with the information provided in the context. The context confirms and supports the hypothesis, making it an example of entailment.\n",
    "The label is \"e\".\"\"\",\n",
    "\n",
    "\"\"\"What is the relationship between the following premise and hypothesis? (I have three kinds of relationship: entailment, neutral, and contradiction)\n",
    "Context: Luciano Chailly (born Ferrara, January 19, 1920 â€“ died Milan, December 24, 2002) was an Italian composer and arts administrator of French descent. He was the father of harpist Cecilia Chailly, conductor Riccardo Chailly and journalist Floriana Chailly. As a composer, Chailly was best known for his operas, many of which were composed to libretti by Dino Buzzati.\n",
    "Hypothesis: Luciano Chailly died in December.\n",
    "\n",
    "A:  the context explicitly states that Luciano Chailly \"died Milan, December 24, 2002.\" The hypothesis aligns with and can be inferred from the information provided in the context. The context supports and confirms the statement made in the hypothesis, making it an example of entailment.\n",
    "The label is \"e\".\"\"\",\n",
    "\n",
    "\"\"\"What is the relationship between the following premise and hypothesis? (I have three kinds of relationship: entailment, neutral, and contradiction)\n",
    "Context: Lawrence Leung (born 25 August 1977) is an Australian comedian, writer and director from Melbourne, Victoria. He is best known for his television series \"Lawrence Leung's Choose Your Own Adventure\" based his one-man shows on stories about his obsessions, such as breakdancing, ghosts, the Rubik's Cube and his family. The son of Leo and Doris Leung, he grew up in Box Hill, Melbourne.\n",
    "Hypothesis: lawrence leung was born in 1976\n",
    "\n",
    "A: The context clearly states that Lawrence Leung was born on August 25, 1977, while the hypothesis suggests that he was born in 1976. Since these two statements directly contradict each other, they cannot both be true at the same time.\n",
    "The label is \"c\".\"\"\",\n",
    "\n",
    "\"\"\"What is the relationship between the following premise and hypothesis? (I have three kinds of relationship: entailment, neutral, and contradiction)\n",
    "Context: Bravo, My Life (; lit. \"I Love You, Mal-soon\") is a 2005 South Korean film directed by Park Heung-sik about an adolescent boy who starts to come of age in the late 70s and early 80s, largely oblivious to the dramatic political events occurring around him. The film sold 406,526 tickets nationwide.\n",
    "Hypothesis: Bravo, My Life gross millions in ticket sales nationwide.\n",
    "\n",
    "A: The hypothesis states that \"The film sold over 1,000,000 tickets in South Korea alone,\" which is contradict the information provided in the context that \"The film sold 406,526 tickets nationwide.\" Therefore, the hypothesis can be inferred or entailed from the context. Therefore, the relationship between the context and the hypothesis is a contradiction.\n",
    "The label is \"c\".\"\"\",\n",
    "\n",
    "\"\"\"What is the relationship between the following premise and hypothesis? (I have three kinds of relationship: entailment, neutral, and contradiction)\n",
    "Context: Democrat Culbert L. Olson, elected governor of California in 1938, was a loyal supporter of Roosevelt's New Deal.\n",
    "Hypothesis: Culbert L. Olson was from a very small town in northern California.\n",
    "\n",
    "A: The context only states that he was elected governor of California in 1938 and was a loyal supporter of Roosevelt's New Deal. The hypothesis, on the other hand, suggests that Olson was from a very small town in northern California. Since the context does not confirm or contradict this information, the relationship is considered neutral.\n",
    "The label is \"n\".\"\"\",\n",
    "\n",
    "\"\"\"What is the relationship between the following premise and hypothesis? (I have three kinds of relationship: entailment, neutral, and contradiction)\n",
    "Context: Ray Point is a small rural unincorporated community in Live Oak County, Texas, United States. It is a German farming community typical for much of Texas. The most prominent remaining structures are the Ray Point community center and the Ray Point Mercantile (closed). Nearby is the Ray Point cemetery. The nearest city is Three Rivers.\n",
    "Hypothesis: Not many people live in Ray Point.\n",
    "\n",
    "A:  The context provides information about Ray Point being a small rural unincorporated community in Live Oak County, Texas, with a German farming community and a few prominent structures. It also mentions the Ray Point cemetery and states that the nearest city is Three Rivers. The hypothesis, \"Not many people live in Ray Point,\" can be inferred from the given context. The description of Ray Point as a small rural community with a few remaining structures implies that the population is likely to be limited. Therefore, the hypothesis is entailed by the context since it aligns with the characteristics and description provided.\n",
    "The label is \"e\".\"\"\",\n",
    "\n",
    "\"\"\"What is the relationship between the following premise and hypothesis? (I have three kinds of relationship: entailment, neutral, and contradiction)\n",
    "Context: Quick Chek is a privately owned, Whitehouse Station, New Jersey based chain of convenience stores with 140 stores in New Jersey and New York. The first store opened in Dunellen, New Jersey in 1967, and has since then grown into a chain. Several stores include pharmacies, gas stations, and liquor departments.\n",
    "Hypothesis: Quick Chek has been visited by kyle.\n",
    "\n",
    "A: The context simply provides general information about Quick Chek, such as its ownership, location, number of stores, and the services they offer. There is no explicit mention or indication of Kyle's visit to Quick Chek in the context. Therefore, we cannot infer whether the hypothesis is true or false based on the provided context, leading to a neutral relationship.\n",
    "The label is \"n\".\"\"\",\n",
    "\n",
    "\"\"\"What is the relationship between the following premise and hypothesis? (I have three kinds of relationship: entailment, neutral, and contradiction)\n",
    "Context: So Solid Crew are an English garage, grime and hip hop group originating from Battersea, London which achieved wide success in the early 2000s. The group consisted of a large number of members, the most notable being Lisa Maffia, Romeo and Harvey. They are generally credited with having paved the way for the current generation of crossover UK hip hop stars.\n",
    "Hypothesis: So Solid Crew members are all dead\n",
    "\n",
    "A: The context simply states that So Solid Crew is an English garage, grime, and hip hop group that achieved success in the early 2000s. It mentions some of the notable members of the group but does not provide any information about their current status. Therefore, without any additional information, we cannot conclude whether the members of So Solid Crew are alive or dead. Hence, the relationship between the context and hypothesis remains neutral.\n",
    "The label is \"n\".\"\"\",\n",
    "\n",
    "\"\"\"What is the relationship between the following premise and hypothesis? (I have three kinds of relationship: entailment, neutral, and contradiction)\n",
    "Context: Mickey's Birthday Party is a theatrical cartoon short made by Walt Disney and distributed by RKO Radio Pictures. It was released on February 7, 1942. The animated film was directed by Riley Thomson and animated by Les Clark, James Moore, Ken Muse, Armin Shaffair, Riley Thompson, Bernie Wolf, and Marvin Woodward.\n",
    "Hypothesis: Mickey's Birthday Party is under 100 years\n",
    "\n",
    "A: In this case, the context explicitly states that Mickey's Birthday Party was released on February 7, 1942. Since the current year is 2023, it is logical to conclude that Mickey's Birthday Party is not under 100 years old. The context provides a specific date that is more than 80 years ago, which is well beyond the 100-year mark mentioned in the hypothesis. Therefore, the information in the context entails that hypotesis.\n",
    "The label is \"e\".\"\"\",\n",
    "\n",
    "\"\"\"What is the relationship between the following premise and hypothesis? (I have three kinds of relationship: entailment, neutral, and contradiction)\n",
    "Context: Henry Aldrich Plays Cupid is a 1944 American comedy film directed by Hugh Bennett and written by Muriel Roy Bolton and Val Burton. The film stars Jimmy Lydon, Charles Smith, John Litel, Olive Blakeney, Diana Lynn and Vaughan Glaser. The film was released in April 1944, by Paramount Pictures.\n",
    "Hypothesis: Henry Aldrich Plays Cupid is a funny movie \n",
    "\n",
    "A: In this case, the context states that \"Henry Aldrich Plays Cupid\" is a 1944 American comedy film. The hypothesis states that the movie is funny. Since \"Henry Aldrich Plays Cupid\" falls under the category of comedy films, it can be reasonably inferred that the movie is funny. Therefore, the hypothesis aligns with the information presented in the context, leading to an entailment relationship.\n",
    "The label is \"e\".\"\"\",\n",
    "\n",
    "\"\"\"What is the relationship between the following premise and hypothesis? (I have three kinds of relationship: entailment, neutral, and contradiction)\n",
    "Context: Also ruled out, for the moment, is any tie-up with a new alliance of Social Democrat dissidents and former communists known as the Left Party, which garnered 8.7%.\n",
    "Hypothesis: Also ruled out, for the moment, is any tie-up with a old alliance of Social Democrat dissidents and former communists\n",
    "\n",
    "A: the context states that a tie-up with a new alliance of Social Democrat dissidents and former communists, known as the Left Party, has been ruled out. However, the hypothesis suggests that a tie-up with an old alliance of Social Democrat dissidents and former communists is also ruled out. The contradiction arises because the context mentions a new alliance, while the hypothesis refers to an old alliance.\n",
    "The label is \"c\".\"\"\",\n",
    "\n",
    "\"\"\"What is the relationship between the following premise and hypothesis? (I have three kinds of relationship: entailment, neutral, and contradiction)\n",
    "Context: The 2000 Tulsa Golden Hurricane football team represented the University of Tulsa in the 2000 NCAA Division I-A football season. The team's head coach was Keith Burns. They played home games at Skelly Stadium in Tulsa, Oklahoma and competed as a member of the Western Athletic Conference.\n",
    "Hypothesis: The 2000 Tulsa Golden Hurricane football team met with amy\n",
    "\n",
    "A: the context does not provide any information or evidence about whether the 2000 Tulsa Golden Hurricane football team met with Amy. The context only provides details about the team's head coach, home games, and conference membership, which are unrelated to the hypothesis. Therefore, there is no evidence supporting or contradicting the hypothesis, resulting in a neutral relationship.\n",
    "The label is \"n\".\"\"\",\n",
    "                \n",
    "\"\"\"Q: What is the relationship between the following context and hypothesis? (I have three kinds of relationship: entailment, neutral, and contradiction)\n",
    "Context: \"Dead Celebrities\" is the eighth episode of the thirteenth season of the American animated television series \"South Park\". The 189th overall episode of the series, it originally aired on Comedy Central in the United States on October 7, 2009. In the episode, Ike is haunted by the ghosts of dead celebrities until Michael Jackson, who refuses to accept death, possesses him.\n",
    "Hypothesis: \"Dead Celebrities\" depicts Michael Jackson in the episode. \n",
    "\n",
    "A: The hypothesis states that \"Dead Celebrities\" depicts Michael Jackson in the episode. This hypothesis is supported by the information given in the context. The context explicitly mentions that Michael Jackson possesses Ike in the episode, indicating that Michael Jackson is indeed depicted in the episode. Therefore, the hypothesis is entailed by the context.\n",
    "The label is \"e\".\"\"\",\n",
    "\n",
    "\"\"\"Q: What is the relationship between the following context and hypothesis? (I have three kinds of relationship: entailment, neutral, and contradiction)\n",
    "Context: How to slice meat<br>Place a large cut of meat, like a tenderloin or a roast, on your cutting board. Locate the grain of your meat. The grain is the set of lines created by layers of muscle fiber.\n",
    "Hypothesis: To slice meat, locate the set of muscle fiber layer lines.\n",
    "\n",
    "A: The relationship between the context and hypothesis is neutral because the context does not provide any information or mention regarding how long the cake is left to set. The context only describes the process and ingredients of making a lamington cake, but it does not specify a particular duration for the setting process. Therefore, the hypothesis about the cake being left to set for two days is not supported or contradicted by the given context, resulting in a neutral relationship.\n",
    "The label is \"e\".\"\"\",\n",
    "\n",
    "\"\"\"Q: What is the relationship between the following context and hypothesis? (I have three kinds of relationship: entailment, neutral, and contradiction)\n",
    "Context: A lamington is an Australian cake, made from squares of sponge cake coated in an outer layer of chocolate (or sometimes raspberry) sauce and rolled in desiccated coconut. The thin mixture is absorbed into the outside of the sponge cake and left to set, giving the cake a distinctive texture. A common variation has a layer of cream or strawberry jam between two lamington halves.\n",
    "Hypothesis: The cake is left to set for two days.\n",
    "\n",
    "A: The context provides details about a lamington cake, describing its ingredients, preparation method, and variations. However, it does not mention anything about the cake being left to set for two days. Since the hypothesis does not directly conflict with or support the information in the context, the relationship is considered neutral.\n",
    "The label is \"n\".\"\"\",\n",
    "\n",
    "\"\"\"Q: What is the relationship between the following context and hypothesis? (I have three kinds of relationship: entailment, neutral, and contradiction)\n",
    "Context: John Henry Michael McManus (born 21 January 1974), as stage name Rove McManus, is an Australian triple Gold Logie award-winning television presenter, producer, comedian and media personality. He was the host of the comedy talk show \"Rove LA\" and was also the host of the eponymous variety show \"Rove.\" He is also the co-owner of the production company Roving Enterprises with partner Craig Campbell.\n",
    "Hypothesis: John Henry Michael McManus was born more than 1.26 billion seconds ago.\n",
    "\n",
    "A: The relationship between the context and hypothesis is entailment, we can calculate the number of years in 1.26 billion seconds: 1.26 billion seconds ÷ 60 seconds/minute ÷ 60 minutes/hour ÷ 24 hours/day ÷ 365.25 days/year = approximately 39.9 years. So, converting 1.26 billion seconds to years yields approximately 39.9 years. Now we can calculate John Henry Michael McManus's age which is 2023-1974=49, Therefore, the calculated age is more than 39.9 so, the hypothesis is entailed by the context.\n",
    "The label is \"e\".\"\"\",\n",
    "\n",
    "\"\"\"Q: What is the relationship between the following context and hypothesis? (I have three kinds of relationship: entailment, neutral, and contradiction)\n",
    "Context: In mathematics, the Vitaliâ€“Carathأ©odory theorem is a result in real analysis that shows that, under the conditions stated below, integrable functions can be approximated in L from above and below by lower- and upper-semicontinuous functions, respectively. It is named after Giuseppe Vitali and Constantin Carathأ©odory.\n",
    "Hypothesis:  the Vitaliâ€“Carathأ©odory theorem was invented by Charles Dugal.\n",
    "\n",
    "A: The relationship between the given context and hypothesis is neutral because the context provides information about the origin and details of the Vitaliâ€“Carathأ©odory theorem, stating that it was named after Giuseppe Vitali and Constantin Carathأ©odory. However, the hypothesis claims that the theorem was invented by Charles Dugal, which contradicts the information provided in the context. Since there is no direct relationship of entailment or contradiction between the context and hypothesis, the relationship is considered neutral.\n",
    "The label is \"n\".\"\"\",\n",
    "\n",
    "\"\"\"Q: What is the relationship between the following context and hypothesis? (I have three kinds of relationship: entailment, neutral, and contradiction)\n",
    "Context: A zoo worker is dead and two visitors are seriously injured after a Siberian tiger escaped from the San Francisco Zoo in San Francisco, California in the United States and attacked three people who were inside a cafe. The tiger was shot dead by police who were called to the scene. They found the tiger attacking one of the zoo visitors when they killed it.\n",
    "Hypothesis: A zoo worker is dead and two visitors are seriously injured after a Siberian elephant escaped.\n",
    "\n",
    "A: The relationship between the context and hypothesis is a contradiction. The reason is that the context clearly states that a Siberian tiger escaped from the San Francisco Zoo and attacked three people. It also mentions that the tiger was shot dead by the police. In contrast, the hypothesis suggests that a Siberian elephant escaped, which contradicts the information provided in the context. There is no mention of an elephant escaping or being involved in the incident. Therefore, the hypothesis contradicts the information in the context and is not supported by the given information.\n",
    "The label is \"c\".\"\"\",\n",
    "\n",
    "\"\"\"Q: What is the relationship between the following context and hypothesis? (I have three kinds of relationship: entailment, neutral, and contradiction)\n",
    "Context: \"Broken Arrow\" is a song written by Canadian singer-songwriter Neil Young and recorded by Buffalo Springfield on their 1967 album \"Buffalo Springfield Again\". It was recorded in August and September 1967 at Columbia Recording Studios and Sunset Sound Recorders. It incorporates musical ideas from \"Down Down Down,\" a demo Young recorded with Buffalo Springfield (now available on the box set).\n",
    "Hypothesis: Neil Young recorded the song in Canada in 1967\n",
    "\n",
    "A: The relationship between the context and hypothesis is neutral because the context does not provide specific information about where Neil Young recorded the song \"Broken Arrow\" or whether it was recorded in Canada. Although the context mentions that Buffalo Springfield recorded the song in Columbia Recording Studios and Sunset Sound Recorders, it does not specify the location. Therefore, the hypothesis that Neil Young recorded the song in Canada in 1967 is neither contradicted nor supported by the given context.\n",
    "The label is \"n\".\"\"\",\n",
    "\n",
    "\"\"\"Q: What is the relationship between the following context and hypothesis? (I have three kinds of relationship: entailment, neutral, and contradiction)\n",
    "Context: Kearsarge Regional High School is a high school located in North Sutton, New Hampshire, serving the Kearsarge Regional School District. Kearsarge Regional High School serves students from the towns of Sutton, New London, Wilmot, Newbury, Springfield, Warner and Bradford.\n",
    "Hypothesis: Kearsarge Regional High School receives students from many places.\n",
    "\n",
    "A: The relationship between the given context and hypothesis is entailment. This is because the context explicitly states that Kearsarge Regional High School serves students from several towns, including Sutton, New London, Wilmot, Newbury, Springfield, Warner, and Bradford. The hypothesis, \"Kearsarge Regional High School receives students from many places,\" aligns with the information provided in the context, confirming that the school indeed receives students from multiple locations. Therefore, the hypothesis is entailed by the context.\n",
    "The label is \"e\".\"\"\",\n",
    "\n",
    "\"\"\"Q: What is the relationship between the following context and hypothesis? (I have three kinds of relationship: entailment, neutral, and contradiction)\n",
    "Context: There is a growing sense of urgency to deal with the country's social issues, and a large number of professional NGOs can meet BOVESPA's standards of transparency and accountability.\n",
    "Hypothesis: NGOs serve no purpose in politics \n",
    "\n",
    "A: The relationship between the context and hypothesis can be categorized as a contradiction. The reason for this is that the context highlights the presence of a \"growing sense of urgency\" to address social issues in the country, along with the existence of numerous professional non-governmental organizations (NGOs) that meet the standards of transparency and accountability. However, the hypothesis claims that NGOs serve no purpose in politics. This contradicts the information provided in the context, which implies that NGOs play a significant role in addressing social issues and meeting standards of transparency and accountability.\n",
    "The label is \"c\".\"\"\",\n",
    "\n",
    "\"\"\"Q: What is the relationship between the following context and hypothesis? (I have three kinds of relationship: entailment, neutral, and contradiction)\n",
    "Context: Silvana, J. 87, is an opera by Carl Maria von Weber, first performed in Frankfurt am Main on 16 September 1810. The libretto, by , is a reworking of an earlier, unsuccessful opera by Weber, \"Das Waldmأ¤dchen \". Weber also reused music from the same piece in \"Silvana\".\n",
    "Hypothesis: Silvana was never performed before Frankfurt.  \n",
    "\n",
    "A: The relationship between the given context and hypothesis is a contradiction. The context clearly states that \"Silvana\" was first performed in Frankfurt am Main on 16 September 1810. On the other hand, the hypothesis states that \"Silvana\" was never performed before Frankfurt. These statements directly contradict each other, as the context explicitly mentions the performance of \"Silvana\" in Frankfurt. Therefore, the relationship between the context and hypothesis is a contradiction.\n",
    "The label is \"e\".\"\"\",\n",
    "\n",
    "\"\"\"Q: What is the relationship between the following context and hypothesis? (I have three kinds of relationship: entailment, neutral, and contradiction)\n",
    "Context: Saxe-Coburg and Gotha (German: \"Sachsen-Coburg und Gotha\" ), or Saxe-Coburg-Gotha, was an Ernestine duchy ruled by a branch of the House of Wettin, consisting of territories in the present-day states of Bavaria and Thuringia in Germany. It lasted from 1826 to 1918.\n",
    "Hypothesis: This duchy ended around the end of world war 1.\n",
    "\n",
    "A: The relationship between the context and hypothesis is an entailment. The reason for this is that the context explicitly states that Saxe-Coburg and Gotha, the duchy in question, lasted from 1826 to 1918. The hypothesis, \"This duchy ended around the end of World War 1,\" aligns with the information provided in the context. Therefore, the hypothesis logically follows from the information presented in the context, making it an entailment.\n",
    "The label is \"e\".\"\"\",\n",
    "\n",
    "\"\"\"Q: What is the relationship between the following context and hypothesis? (I have three kinds of relationship: entailment, neutral, and contradiction)\n",
    "Context: Jonathan Samuels (born 1972) is a British broadcaster and journalist. He is currently the co-anchor on Sky News Sunrise since 17 October 2016. Previously he has held a range of different Senior correspondent posts for \"Sky News\", the 24-hour television news service operated by Sky Television, part of Sky plc. He was based in Sydney from 2011 to 2014.\n",
    "Hypothesis: Jonathan Samuels used to work in Sydney.\n",
    "\n",
    "A: The relationship between the given context and hypothesis is an entailment. The context explicitly states that Jonathan Samuels was based in Sydney from 2011 to 2014. This information directly supports the hypothesis that Jonathan Samuels used to work in Sydney. The hypothesis is entailed by the information provided in the context, making it a logical conclusion based on the given information.\n",
    "The label is \"e\".\"\"\",\n",
    "\n",
    "\"\"\"Q: What is the relationship between the following context and hypothesis? (I have three kinds of relationship: entailment, neutral, and contradiction)\n",
    "Context: Seven Sinners (UK title Cafe of the Seven Sinners) is a 1940 American comedy drama romance film directed by Tay Garnett starring Marlene Dietrich and John Wayne in the first of three films they made together. The film was produced by Universal Pictures in black and white\n",
    "Hypothesis: The movie was produced this century.\n",
    "\n",
    "A: The relationship between the context and hypothesis is a contradiction. The reason is that the context clearly states that the film \"Seven Sinners\" was produced in 1940. However, the hypothesis suggests that the movie was produced in this century, implying a much more recent production date. Since the context and hypothesis directly conflict with each other in terms of the production timeline, they represent a contradiction.\n",
    "The label is \"c\".\"\"\",\n",
    "\n",
    "\"\"\"Q: What is the relationship between the following context and hypothesis? (I have three kinds of relationship: entailment, neutral, and contradiction)\n",
    "Context: Maskarade (\"Masquerade\") is an opera in three acts by Carl Nielsen to a Danish libretto by Vilhelm Andersen, based on the comedy by Ludvig Holberg. It was first performed on 11 November 1906 at Det Kongelige Teater, Copenhagen. \"Maskarade\" has enjoyed enduring popularity in Denmark where it is considered to be the country's national opera.\n",
    "Hypothesis: Det Kongelige Teater, Copenhagen has now been transformed into a movie theatre today. \n",
    "\n",
    "A: The relationship between the context and the hypothesis is neutral. The reason for this is that the context provides information about the opera \"Maskarade\" and its historical performance at Det Kongelige Teater in Copenhagen. However, it does not provide any information about the current status or transformation of the theater into a movie theater. Therefore, the hypothesis about the theater being transformed into a movie theater today does not contradict or entail the information provided in the context. Hence, the relationship is considered neutral.\n",
    "The label is \"n\".\"\"\",\n",
    "\n",
    "\"\"\"Q: What is the relationship between the following context and hypothesis? (I have three kinds of relationship: entailment, neutral, and contradiction)\n",
    "Context: Wiktor Zborowski (born January 10, 1951 in Warsaw) is a Polish actor. He is nephew of Jan Kobuszewski. In 1973 he finished The Aleksander Zelwerowicz National Academy of Dramatic Art in Warsaw. He appeared in the comedy television series \"Bao-Bab, czyli zielono mi\" in 2003. He is also known for taking on the role of Longinus Podbipiؤ™ta in the 1999 historical epic \"With Fire and Sword\".\n",
    "Hypothesis: Wiktor Zborowski did not have a good career on tv.\n",
    "\n",
    "A: The relationship between the context and the hypothesis is contradiction. The reason for this is that appearing in a comedy television series and taking on a role in a historical epic are notable accomplishments for an actor. Therefore Wiktor Zborowski had successful career on TV, which contradicts the hypothesis that he did not have a good career on tv..\n",
    "The label is \"c\".\"\"\",\n",
    "\n",
    "\"\"\"Q: What is the relationship between the following context and hypothesis? (I have three kinds of relationship: entailment, neutral, and contradiction)\n",
    "Context: The 2006 Challenge Bell was a tennis tournament played on indoor carpet courts at the PEPS de l'Universitأ© Laval in Quebec City in Canada that was part of Tier III of the 2006 WTA Tour. It was the 14th edition of the Challenge Bell, and was held from October 30 through November 5, 2006. Marion Bartoli won the singles title.\n",
    "Hypothesis: The courts were made of carpet.\n",
    "\n",
    "A: The relationship between the context and the hypothesis is an entailment because the context explicitly mentions that the 2006 Challenge Bell was played on indoor carpet courts. The hypothesis simply restates this fact by stating that \"The courts were made of carpet,\" which directly corresponds to the information provided in the context. Therefore, the hypothesis logically follows from the context, making it an entailment.\n",
    "The label is \"e\".\"\"\",\n",
    "\n",
    "\"\"\"Q: What is the relationship between the following context and hypothesis? (I have three kinds of relationship: entailment, neutral, and contradiction)\n",
    "Context: Uwe Seeler (born 5 November 1936) is a former German footballer and football official. He played for Hamburger SV and also made 72 appearances for the West German national team. Usually regarded as one of the greatest players in German football history, in 2004, he was named as one of FIFA's 125 greatest living players, by Pelأ©. His grandson, Levin أ–ztunalؤ±, is also a professional footballer.\n",
    "Hypothesis: Seeler is from a country whose flag is black, red, and gold.\n",
    "\n",
    "A: the relationship between the context and hypothesis is an entailment. The context explicitly states that Uwe Seeler is a former German footballer so it means he is from germany and German flag is black, red and gold. This information directly supports hypothesis. Therefore hypothesis entailed by context.\n",
    "The label is \"e\".\"\"\",\n",
    "\n",
    "\"\"\"Q: What is the relationship between the following context and hypothesis? (I have three kinds of relationship: entailment, neutral, and contradiction)\n",
    "Context: The recent 14% hike in third class postage rates, accompanied by simultaneous double-digit paper price increases, has hit smaller catalogers especially hard.\n",
    "Hypothesis: Nobody uses third class postage. \n",
    "\n",
    "A: The relationship between the given context and hypothesis is neutral. The context states that there has been a recent 14% increase in third-class postage rates, along with double-digit paper price increases. It further mentions that these changes have had a significant impact on smaller catalogers. The hypothesis, \"Nobody uses third class postage,\" does not directly contradict or support the information provided in the context. While the context discusses the impact of the postage rate hike on smaller catalogers, it does not provide specific information about the overall usage of third-class postage. Therefore, the hypothesis cannot be directly proven or disproven based on the given context, resulting in a neutral relationship.\n",
    "The label is \"n\".\"\"\",\n",
    "\n",
    "\n",
    "\"\"\"Q: What is the relationship between the following context and hypothesis? (I have three kinds of relationship: entailment, neutral, and contradiction)\n",
    "Context: Charles Gallet (26 November 1875 - 1 November 1951) was a French lawyer and politician. He started his career as a lawyer in La Roche-sur-Yon. He served as a member of the Chamber of Deputies from 1928 to 1936, where he represented Vendأ©e. He was succeeded by Franأ§ois Boux de Casson.\n",
    "Hypothesis: Charles Gallet abused his power once.\n",
    "\n",
    "A: The relationship between the context and hypothesis is neutral because the context does not provide any specific information or evidence about Charles Gallet abusing his power. The context only mentions Charles Gallet's profession as a lawyer and politician, his career trajectory, and his representation of Vendée in the Chamber of Deputies. It does not mention any incidents or allegations of abuse of power. Therefore, without further information, we cannot confirm or refute the hypothesis that Charles Gallet abused his power once.\n",
    "The label is \"n\".\"\"\",\n",
    "\n",
    "\"\"\"Q: What is the relationship between the following context and hypothesis? (I have three kinds of relationship: entailment, neutral, and contradiction)\n",
    "Context: US Federal Reserve boss, Alan Greenspan, sees increased US trade protectionism and ever-larger budget deficits as the biggest threats to the US economy. \n",
    "Hypothesis: Alan Greenspan sees the increasing budget deficit as more than a minute threat to the U.S. economy.\n",
    "\n",
    "A: Since the context explicitly mentions that ever-larger budget deficits are seen as one of the biggest threats by Alan Greenspan, the hypothesis stating that he sees the increasing budget deficit as more than a minute threat aligns with and expands upon the information provided in the context. Thus, the hypothesis can be inferred or entailed from the given context.\n",
    "The label is \"e\".\"\"\",\n",
    "\n",
    "\"\"\"Q: What is the relationship between the following context and hypothesis? (I have three kinds of relationship: entailment, neutral, and contradiction)\n",
    "Context: Belinda Jane Cordwell (born 21 September 1965) is a sports commentator and a former professional tennis player from New Zealand, who represented her native country at the 1988 Summer Olympics in Seoul, South Korea. There she lost in the first round of the women's singles competition to Great Britain's Sara Gomer.\n",
    "Hypothesis: Belinda was born on the 8th month of the year.\n",
    "\n",
    "A: The relationship between the given context and hypothesis is a contradiction. The reason is that the context clearly states that Belinda Jane Cordwell was born on September 21, 1965, which indicates that she was born in the ninth month of the year, not the eighth month as stated in the hypothesis. Therefore, the hypothesis contradicts the information provided in the context.\n",
    "The label is \"c\".\"\"\",\n",
    "\n",
    "\"\"\"Q: What is the relationship between the following context and hypothesis? (I have three kinds of relationship: entailment, neutral, and contradiction)\n",
    "Context: H.E.L.P. is a United States ABC television drama series which aired for one season as a mid-season replacement in March 1990. John Mahoney starred as Chief Patrick Meacham of the New York City Fire Department. Wesley Snipes played police officer Lou Barton and David Caruso played police officer Frank Sardoni of the NYPD.\n",
    "Hypothesis: New York Fire Department has been the subject of many TV shows. \n",
    "\n",
    "A: The relationship between the context and hypothesis is neutral because although the context mentions a television drama series called H.E.L.P., it does not provide information about the New York Fire Department being the subject of many TV shows. The context focuses on the specific series and its characters, rather than making a broader statement about the New York Fire Department's portrayal in TV shows. Therefore, there is no clear evidence in the context to support or contradict the hypothesis, resulting in a neutral relationship.\n",
    "The label is \"n\".\"\"\",\n",
    "\n",
    "\"\"\"Q: What is the relationship between the following context and hypothesis? (I have three kinds of relationship: entailment, neutral, and contradiction)\n",
    "Context: The 2013 USA Outdoor Track and Field Championships was held at Drake Stadium in Des Moines, Iowa. Organised by USA Track and Field, the four-day competition took place June 20â€“23 in conjunction with the USA Junior Outdoor Track & Field Championships which started the day before and served as the national championships in track and field for the United States.\n",
    "Hypothesis: The Track and Field Championships are a national level event for track and field in the United States of America.\n",
    "\n",
    "A: The context clearly states that the 2013 USA Outdoor Track and Field Championships were organized by USA Track and Field and served as the national championships in track and field for the United States. The hypothesis states that \"The Track and Field Championships are a national level event for track and field in the United States of America.\" This statement aligns with the information provided in the context. Since the hypothesis directly follows from and is supported by the information in the context, we can conclude that the relationship between the context and hypothesis is one of entailment.\n",
    "The label is \"e\".\"\"\",\n",
    "\n",
    "\"\"\"Q: What is the relationship between the following context and hypothesis? (I have three kinds of relationship: entailment, neutral, and contradiction)\n",
    "Context: \"Ant Rap\" is a 1981 song performed by the British new wave band Adam and the Ants. Written by Adam Ant and Marco Pirroni, the song was included on the band's 1981 album \"Prince Charming\". It entered the UK Singles Chart in December 1981 at number 9 before rising to a peak position of number three.\n",
    "Hypothesis: Adam Ant only ever wrote a single song.\n",
    "\n",
    "A: The context provides information about a specific song called \"Ant Rap\" performed by the British band Adam and the Ants in 1981. It also mentions that the song was written by Adam Ant and Marco Pirroni and was included in the band's 1981 album \"Prince Charming.\" Additionally, it states that the song entered the UK Singles Chart and reached a peak position of number three.\n",
    "\n",
    "The hypothesis, on the other hand, suggests that Adam Ant only ever wrote a single song. The context does not provide sufficient information to confirm or refute this claim. It only mentions one song performed by Adam Ant and does not provide any information about other songs he may have written. Therefore, the relationship between the context and the hypothesis is considered neutral.\n",
    "The label is \"n\".\"\"\",\n",
    "\n",
    "\"\"\"Q: What is the relationship between the following context and hypothesis? (I have three kinds of relationship: entailment, neutral, and contradiction)\n",
    "Context: Adolph Heinrich Joseph Sutro (April 29, 1830 â€“ August 8, 1898) was a German-American engineer, politician and philanthropist who served as the 24th mayor of San Francisco from 1895 until 1897. Born a German Jew, he moved to Virginia City, Nevada and made a fortune at the Comstock Lode. He is today perhaps best remembered for the various San Francisco lands and landmarks that still bear his name. \n",
    "Hypothesis: Sutro at one point lived in Nevada.\n",
    "\n",
    "A: The relationship between the context and the hypothesis is entailment because the context clearly states that Adolph Heinrich Joseph Sutro moved to Virginia City, Nevada and made a fortune at the Comstock Lode. Therefore, it can be inferred that Sutro lived in Nevada at some point in his life. The hypothesis directly aligns with the information provided in the context, making it an entailment.\n",
    "The label is \"e\".\"\"\",\n",
    "\n",
    "\"\"\"Q: What is the relationship between the following context and hypothesis? (I have three kinds of relationship: entailment, neutral, and contradiction)\n",
    "Context: John Halsey (born 23 February 1945 in Highgate) is a rock drummer, best known for his appearance as Barrington Womble (\"Barry Wom\") in The Rutles, leading to his playing with Neil Innes's band Fatso and appearing in the television film \"All You Need is Cash\" (1978).\n",
    "Hypothesis: John Halsey appeared in the film \"All You Need is Cash\" when he was still in his 20s.  \n",
    "\n",
    "A: The relationship between the given context and hypothesis is a contradiction. The reason for this contradiction is that the context explicitly states that John Halsey appeared in the film \"All You Need is Cash\" in 1978, without any mention of his age at that time. On the other hand, the hypothesis states that he appeared in the film when he was still in his 20s. Since John Halsey was born in 1945, appearing in the film in 1978 would have made him 33 years old, which contradicts the claim in the hypothesis that he was still in his 20s. Therefore, the context and hypothesis present conflicting information, resulting in a contradiction.\n",
    "The label is \"c\".\"\"\",\n",
    "\n",
    "\"\"\"Q: What is the relationship between the following context and hypothesis? (I have three kinds of relationship: entailment, neutral, and contradiction)\n",
    "Context: The following is a list of artists and bands associated with the new wave music genre during the late 1970s and early-to-mid 1980s. The list does not include acts associated with the resurgences and revivals of the genre that have occurred from the 1990s onward. Acts associated with these revivals are found in the list of post-punk revival bands article.\n",
    "Hypothesis: Artists and bands from the late1970s and early-to-mid 1980s new wave music genre are not included in the list of post-punk revival bands article.  \n",
    "\n",
    "A: The relationship between the given context and hypothesis is an entailment. The reason for this entailment is that the context explicitly states that the list of artists and bands associated with the new wave music genre during the late 1970s and early-to-mid 1980s does not include acts associated with the revivals of the genre from the 1990s onward. The hypothesis simply restates this information, stating that the artists and bands from the late 1970s and early-to-mid 1980s new wave music genre are not included in the list of post-punk revival bands article. Since the hypothesis directly aligns with the information provided in the context, it can be considered an entailment.\n",
    "The label is \"e\".\"\"\",\n",
    "\n",
    "\"\"\"Q: What is the relationship between the following context and hypothesis? (I have three kinds of relationship: entailment, neutral, and contradiction)\n",
    "Context: Core Python Programming is a textbook on the Python programming language, written by Wesley J. Chun. The first edition of the book was released on December 14, 2000. The second edition was released several years later on September 18, 2006. \"Core Python Programming\" is targeted mainly at higher education students and IT professionals.\n",
    "Hypothesis: Chun is not a programmer.  \n",
    "\n",
    "A: The relationship between the given context and hypothesis is a contradiction. The reason for this contradiction is that the context explicitly states that Wesley J. Chun is the author of the textbook \"Core Python Programming,\" which suggests that he is involved in programming. On the other hand, the hypothesis states that Chun is not a programmer, directly contradicting the information provided in the context.\n",
    "The label is \"c\".\"\"\",\n",
    "\n",
    "\"\"\"Q: What is the relationship between the following context and hypothesis? (I have three kinds of relationship: entailment, neutral, and contradiction)\n",
    "Context: Two persons were injured in dynamite attacks perpetrated this evening against two bank branches in this northwestern, Colombian city.\n",
    "Hypothesis: The two people were men.\n",
    "\n",
    "A: The relationship between the given context and hypothesis is neutral. The reason for this neutrality is that the context does not provide any specific information about the gender of the two individuals who were injured in the dynamite attacks. While it mentions that two persons were injured, it does not specify whether they were men or women. Therefore, the hypothesis suggesting that the two people were men is neither confirmed nor contradicted by the context, resulting in a neutral relationship.\n",
    "The label is \"n\".\"\"\",\n",
    "\n",
    "\"\"\"Q: What is the relationship between the following context and hypothesis? (I have three kinds of relationship: entailment, neutral, and contradiction)\n",
    "Context: Daredevil<br>Josh loved doing skateboard tricks to grab people's attention. But his tricks became more and more dangerous. While at a skate park, he announced he would do a backflip off a ramp. And a large scene gathered around him. But Josh ended up in the hospital.\n",
    "Haypothesis: Josh rode a bicycle. \n",
    "\n",
    "A: The relationship between the context and hypothesis in this case is a contradiction. The reason is that the context provides information that Josh was skateboarding not riding a bicycle. Therefore hypothesis directly contradicts the provided information in the context.\n",
    "The label is \"c\".\"\"\",\n",
    "\n",
    "\"\"\"Q: What is the relationship between the following context and hypothesis? (I have three kinds of relationship: entailment, neutral, and contradiction)\n",
    "Context: Nickajack Lake is the reservoir created by Nickajack Dam as part of the Tennessee Valley Authority. The lake stretches from Nickajack Dam to Chickamauga Dam, passing through the city of Chattanooga. The stretch of the Tennessee River commonly referred to as the \"Grand Canyon of Tennessee\" also is part of Nickajack Lake.\n",
    "Hypothesis: You can see the lake from Chattanooga.  \n",
    "\n",
    "A: The relationship between the context and hypothesis is neutral because the context provides information that supports the possibility of seeing the lake from Chattanooga, but it does not explicitly confirm or deny it. The context mentions that Nickajack Lake stretches through the city of Chattanooga, which suggests that it is geographically close to Chattanooga. However, it does not directly state whether or not the lake is visible from the city. Therefore, the hypothesis remains uncertain and the relationship between the context and hypothesis is considered neutral.\n",
    "The label is \"n\".\"\"\",\n",
    "\"\"\"What is the relationship between the following premise and hypothesis? (I have three kinds of relationship: entailment, neutral, and contradiction)\n",
    "Context: A Student's Song of Heidelberg (German:Ein Burschenlied aus Heidelberg) is a 1930 German musical film directed by Karl Hartl and starring Hans Brausewetter, Betty Bird and Willi Forst. It marked Hartl's directoral debut. The film is in the tradition of the nostalgic Old Heidelberg.\n",
    "Hypothesis: Karl Hartl had never directed a film prior to A Student's Song of Heidelberg.\n",
    "\n",
    "A: The context states that \"A Student's Song of Heidelberg\" is a 1930 German musical film directed by Karl Hartl and that it marked Hartl's directorial debut. The hypothesis states that Karl Hartl had never directed a film prior to \"A Student's Song of Heidelberg.\" Since the context explicitly mentions that the film is Karl Hartl's directorial debut, it logically follows that he had not directed a film before this one. Therefore, the information in the context entails the hypothesis, making the relationship between them one of entailment.\n",
    "The label is \"e\".\"\"\",\n",
    "\n",
    "\"\"\"What is the relationship between the following premise and hypothesis? (I have three kinds of relationship: entailment, neutral, and contradiction)\n",
    "Context: Witta son of Wecta is mentioned as a Jutish chieftain in the 449 entry of the \"Anglo-Saxon Chronicle\" as the father of Wihtgils and the grandfather of Hengest and Horsa. He also appears in the same role in Henry of Huntingdon's \"Historia Anglorum\". He is most probably mythological, but as a historical person he would have been born around 400 AD.\n",
    "Hypothesis: Henry of Huntingdon's \"Historia Anglorum\" was write in Jutish.\n",
    "\n",
    "A: The hypothesis, suggests that Henry of Huntingdon's \"Historia Anglorum\" was written in Jutish. However, the context does not provide any direct evidence or information about the language in which the \"Historia Anglorum\" was written. Therefore, without additional evidence or confirmation, the relationship between the context and the hypothesis remains neutral.\n",
    "The label is \"\".\"\"\",\n",
    "\n",
    "\"\"\"What is the relationship between the following premise and hypothesis? (I have three kinds of relationship: entailment, neutral, and contradiction)\n",
    "Context: Margaret Bryan, Baroness Bryan (c. 1468 â€“ c. 1551/52) was Lady Governess to Henry VIII's children: Princess Mary, Princess Elizabeth, Henry FitzRoy and Prince Edward. The position of Lady Governess in her day resembled less that of the popular modern idea of a governess, more that of a nanny.\n",
    "Hypothesis: Margaret Bryan hated her children.\n",
    "\n",
    "A: The context simply states that Margaret Bryan served as Lady Governess to Henry VIII's children and describes her role as being more like a nanny. It does not provide any details or indications about Margaret Bryan's personal feelings or attitudes towards the children. Therefore, the hypothesis suggesting that Margaret Bryan hated her children is not supported or contradicted by the given context, resulting in a neutral relationship between them.\n",
    "The label is \"n\".\"\"\",\n",
    "\n",
    "\"\"\"What is the relationship between the following premise and hypothesis? (I have three kinds of relationship: entailment, neutral, and contradiction)\n",
    "Context: This page is a list of heirs to the throne of Luxembourg. The list includes all individuals who were considered to inherit the throne of Luxembourg, either as heir apparent or as heir presumptive, since the constitution of the Grand Duchy of Luxembourg on 15 March 1815. Those who actually succeeded as Grand Duke or Grand Duchess of Luxembourg are shown in bold.\n",
    "Hypothesis: Luxembourg renounced to royalty\n",
    "\n",
    "A: The context primarily focuses on the historical lineage and succession of the throne, while the hypothesis pertains to a potential renouncement of royalty by Luxembourg as a country. As there is no explicit information or indication in the context about such renouncement, the relationship remains neutral.\n",
    "The label is \"n\".\"\"\",\n",
    "\n",
    "\"\"\"What is the relationship between the following premise and hypothesis? (I have three kinds of relationship: entailment, neutral, and contradiction)\n",
    "Context: \"Edge of a Revolution\" is a single by Canadian rock band Nickelback from their eighth studio album, \"No Fixed Address\". It was released as the album's lead single on August 18, 2014. It went for Active Rock adds on August 18, and was premiered on Clear Channel radio stations. It was released for sale on August 19, 2014. This was the first release under Nickelback's new label, Republic Records.\n",
    "Hypothesis:  their eighth studio album was the best\n",
    "\n",
    "A: The context only mentions factual details such as the release date, the single, and the record label. It does not make any claims or judgments about whether the album was the best or not. Therefore, there is no evidence to support either an entailment or contradiction between the context and hypothesis, resulting in a neutral relationship.\n",
    "The label is \"n\".\"\"\",\n",
    "\n",
    "\"\"\"What is the relationship between the following premise and hypothesis? (I have three kinds of relationship: entailment, neutral, and contradiction)\n",
    "Context: Gathering Mercury is the eleventh studio album by Colin Hay, released on May 9, 2011, on Compass Records. Regarding the album's thematic content, Hay said, \"I think itâ€™s about life and loss and the injustice of the way the universe is set up; how we lose people we love.\"\n",
    "Hypothesis: Hay believes that the universe is fair in how we lose people we love.\n",
    "\n",
    "A: The context explicitly states that Colin Hay's album, \"Gathering Mercury,\" revolves around themes of life, loss, and the injustice of the universe's setup, particularly in how we lose people we love. However, the hypothesis suggests that Hay believes the universe is fair in how we lose people we love. This contradicts the context because Hay's statement implies dissatisfaction with the way the universe operates and suggests that it is unjust.\n",
    "The label is \"c\".\"\"\",\n",
    "\n",
    "\"\"\"What is the relationship between the following premise and hypothesis? (I have three kinds of relationship: entailment, neutral, and contradiction)\n",
    "Context: The 1996â€“97 Wessex Football League was the 11th season of the Wessex Football League. The league champions for the second time in their history were A.F.C. Lymington, after remaining unbeaten for the whole season. There was no promotion to the Southern League, but Petersfield Town finished bottom and were relegated.\n",
    "Hypothesis: Mentioned in first line.\n",
    "\n",
    "A: The hypothesis simply states that the information mentioned in the context is present in the first line. It doesn't make any claims that are contrary to the context or draw any conclusions beyond what is explicitly stated. Therefore, the relationship is considered neutral.\n",
    "The label is \"n\".\"\"\"]\n"
   ]
  },
  {
   "cell_type": "code",
   "execution_count": null,
   "id": "4e80bb63",
   "metadata": {},
   "outputs": [],
   "source": []
  }
 ],
 "metadata": {
  "kernelspec": {
   "display_name": "herman_7",
   "language": "python",
   "name": "herman_7"
  },
  "language_info": {
   "codemirror_mode": {
    "name": "ipython",
    "version": 3
   },
   "file_extension": ".py",
   "mimetype": "text/x-python",
   "name": "python",
   "nbconvert_exporter": "python",
   "pygments_lexer": "ipython3",
   "version": "3.7.13"
  }
 },
 "nbformat": 4,
 "nbformat_minor": 5
}
